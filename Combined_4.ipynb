{
 "cells": [
  {
   "cell_type": "markdown",
   "id": "fcf43fe4",
   "metadata": {},
   "source": [
    "# Сборный проект"
   ]
  },
  {
   "cell_type": "markdown",
   "id": "d71e9ae6",
   "metadata": {},
   "source": [
    "<div class=\"alert\" style=\"background-color:#ead7f7;color:#8737bf\">\n",
    "    <font size=\"3\"><b>Комментарий студента</b></font>\n",
    "   \n",
    "Ревьюеру привет) Хотел успеть сделать больше, но никак не могу успеть, поэтому отправляю что есть, надеюсь на понимание. Хочу после проверки исправить все замечания что будут, довести его до конца и написать общий вывод, так же промежуточные выводы. В этом проекте как-то тяжело следить за порядком, надеюсь понятно хоть сделано все)(первая итерация)\n",
    "\n",
    "</div>"
   ]
  },
  {
   "cell_type": "markdown",
   "id": "14ee5ec4",
   "metadata": {},
   "source": [
    "## 1. Установка библиотек и загрузка данных"
   ]
  },
  {
   "cell_type": "code",
   "execution_count": 1,
   "id": "11a0b00b",
   "metadata": {},
   "outputs": [],
   "source": [
    "#!pip install transformers -q\n",
    "#!pip uninstall tensorflow keras -y\n",
    "#!pip install tensorflow==2.12.0\n",
    "#!pip install -U huggingface_hub -q\n",
    "#!pip install catboost -q\n",
    "#!pip install tensorflow.keras\n",
    "#use python<=3.8.11"
   ]
  },
  {
   "cell_type": "code",
   "execution_count": 104,
   "id": "1ed917ab",
   "metadata": {},
   "outputs": [],
   "source": [
    "import pandas as pd\n",
    "import numpy as np\n",
    "import re \n",
    "import matplotlib.pyplot as plt\n",
    "import seaborn as sns\n",
    "import tensorflow as tf\n",
    "import os\n",
    "from sklearn.model_selection import GroupShuffleSplit\n",
    "from sklearn.linear_model import LinearRegression\n",
    "from sklearn.model_selection import cross_validate, train_test_split, RandomizedSearchCV\n",
    "from catboost import CatBoostRegressor\n",
    "from tensorflow.keras.preprocessing.image import ImageDataGenerator\n",
    "from tensorflow.keras.optimizers import Adam\n",
    "from tensorflow.keras.layers import Dense, Dropout, BatchNormalization\n",
    "from tensorflow.keras.models import Sequential\n",
    "from tensorflow.keras.applications import ResNet50\n",
    "from tensorflow.keras.callbacks import EarlyStopping\n",
    "from transformers import BertTokenizer, BertModel\n",
    "from tensorflow.keras.metrics import RootMeanSquaredError\n",
    "from PIL import Image\n"
   ]
  },
  {
   "cell_type": "code",
   "execution_count": null,
   "id": "151bbf3b",
   "metadata": {},
   "outputs": [],
   "source": [
    "#для загрузки данных создадим функцию для чтения файла и проверки существования пути\n",
    "pth_1 = 'D:/combine_4/train_dataset.csv'\n",
    "pth_2 = 'D:/combine_4/test_queries.csv'\n",
    "pth_3 = 'D:/combine_4/test_images.csv'\n",
    "#pth_4 = 'D:/combine_4/CrowdAnnotations.tsv' - их в этом проекте не использую\n",
    "pth_5 = 'D:/combine_4/ExpertAnnotations.tsv'\n",
    "\n",
    "def file_read(path, sep, names=None, index=None):\n",
    "    try:\n",
    "        data = pd.read_csv(path, sep=sep, names=names, index_col=index)\n",
    "    except FileNotFoundError:\n",
    "        print(\"Ошибка: Файл не найден.\")\n",
    "    except Exception as e:\n",
    "        print(f\"Произошла ошибка: {e}\")\n",
    "    return data"
   ]
  },
  {
   "cell_type": "code",
   "execution_count": 4,
   "id": "3a5fcb82",
   "metadata": {},
   "outputs": [
    {
     "data": {
      "text/html": [
       "<div>\n",
       "<style scoped>\n",
       "    .dataframe tbody tr th:only-of-type {\n",
       "        vertical-align: middle;\n",
       "    }\n",
       "\n",
       "    .dataframe tbody tr th {\n",
       "        vertical-align: top;\n",
       "    }\n",
       "\n",
       "    .dataframe thead th {\n",
       "        text-align: right;\n",
       "    }\n",
       "</style>\n",
       "<table border=\"1\" class=\"dataframe\">\n",
       "  <thead>\n",
       "    <tr style=\"text-align: right;\">\n",
       "      <th></th>\n",
       "      <th>image</th>\n",
       "      <th>query_id</th>\n",
       "      <th>query_text</th>\n",
       "    </tr>\n",
       "  </thead>\n",
       "  <tbody>\n",
       "    <tr>\n",
       "      <th>0</th>\n",
       "      <td>1056338697_4f7d7ce270.jpg</td>\n",
       "      <td>2549968784_39bfbe44f9.jpg#2</td>\n",
       "      <td>A young child is wearing blue goggles and sitt...</td>\n",
       "    </tr>\n",
       "    <tr>\n",
       "      <th>1</th>\n",
       "      <td>1262583859_653f1469a9.jpg</td>\n",
       "      <td>2549968784_39bfbe44f9.jpg#2</td>\n",
       "      <td>A young child is wearing blue goggles and sitt...</td>\n",
       "    </tr>\n",
       "    <tr>\n",
       "      <th>2</th>\n",
       "      <td>2447284966_d6bbdb4b6e.jpg</td>\n",
       "      <td>2549968784_39bfbe44f9.jpg#2</td>\n",
       "      <td>A young child is wearing blue goggles and sitt...</td>\n",
       "    </tr>\n",
       "    <tr>\n",
       "      <th>3</th>\n",
       "      <td>2549968784_39bfbe44f9.jpg</td>\n",
       "      <td>2549968784_39bfbe44f9.jpg#2</td>\n",
       "      <td>A young child is wearing blue goggles and sitt...</td>\n",
       "    </tr>\n",
       "    <tr>\n",
       "      <th>4</th>\n",
       "      <td>2621415349_ef1a7e73be.jpg</td>\n",
       "      <td>2549968784_39bfbe44f9.jpg#2</td>\n",
       "      <td>A young child is wearing blue goggles and sitt...</td>\n",
       "    </tr>\n",
       "  </tbody>\n",
       "</table>\n",
       "</div>"
      ],
      "text/plain": [
       "                       image                     query_id  \\\n",
       "0  1056338697_4f7d7ce270.jpg  2549968784_39bfbe44f9.jpg#2   \n",
       "1  1262583859_653f1469a9.jpg  2549968784_39bfbe44f9.jpg#2   \n",
       "2  2447284966_d6bbdb4b6e.jpg  2549968784_39bfbe44f9.jpg#2   \n",
       "3  2549968784_39bfbe44f9.jpg  2549968784_39bfbe44f9.jpg#2   \n",
       "4  2621415349_ef1a7e73be.jpg  2549968784_39bfbe44f9.jpg#2   \n",
       "\n",
       "                                          query_text  \n",
       "0  A young child is wearing blue goggles and sitt...  \n",
       "1  A young child is wearing blue goggles and sitt...  \n",
       "2  A young child is wearing blue goggles and sitt...  \n",
       "3  A young child is wearing blue goggles and sitt...  \n",
       "4  A young child is wearing blue goggles and sitt...  "
      ]
     },
     "metadata": {},
     "output_type": "display_data"
    },
    {
     "name": "stdout",
     "output_type": "stream",
     "text": [
      "<class 'pandas.core.frame.DataFrame'>\n",
      "RangeIndex: 5822 entries, 0 to 5821\n",
      "Data columns (total 3 columns):\n",
      " #   Column      Non-Null Count  Dtype \n",
      "---  ------      --------------  ----- \n",
      " 0   image       5822 non-null   object\n",
      " 1   query_id    5822 non-null   object\n",
      " 2   query_text  5822 non-null   object\n",
      "dtypes: object(3)\n",
      "memory usage: 136.6+ KB\n"
     ]
    }
   ],
   "source": [
    "train_queries = file_read(pth_1, ',',)\n",
    "display(train_queries.head())\n",
    "train_queries.info()"
   ]
  },
  {
   "cell_type": "code",
   "execution_count": 5,
   "id": "8f2bec0f",
   "metadata": {},
   "outputs": [
    {
     "data": {
      "text/html": [
       "<div>\n",
       "<style scoped>\n",
       "    .dataframe tbody tr th:only-of-type {\n",
       "        vertical-align: middle;\n",
       "    }\n",
       "\n",
       "    .dataframe tbody tr th {\n",
       "        vertical-align: top;\n",
       "    }\n",
       "\n",
       "    .dataframe thead th {\n",
       "        text-align: right;\n",
       "    }\n",
       "</style>\n",
       "<table border=\"1\" class=\"dataframe\">\n",
       "  <thead>\n",
       "    <tr style=\"text-align: right;\">\n",
       "      <th></th>\n",
       "      <th>query_id</th>\n",
       "      <th>query_text</th>\n",
       "      <th>image</th>\n",
       "    </tr>\n",
       "  </thead>\n",
       "  <tbody>\n",
       "    <tr>\n",
       "      <th>0</th>\n",
       "      <td>1177994172_10d143cb8d.jpg#0</td>\n",
       "      <td>Two blonde boys , one in a camouflage shirt an...</td>\n",
       "      <td>1177994172_10d143cb8d.jpg</td>\n",
       "    </tr>\n",
       "    <tr>\n",
       "      <th>1</th>\n",
       "      <td>1177994172_10d143cb8d.jpg#1</td>\n",
       "      <td>Two boys are squirting water guns at each other .</td>\n",
       "      <td>1177994172_10d143cb8d.jpg</td>\n",
       "    </tr>\n",
       "    <tr>\n",
       "      <th>2</th>\n",
       "      <td>1177994172_10d143cb8d.jpg#2</td>\n",
       "      <td>Two boys spraying each other with water</td>\n",
       "      <td>1177994172_10d143cb8d.jpg</td>\n",
       "    </tr>\n",
       "    <tr>\n",
       "      <th>3</th>\n",
       "      <td>1177994172_10d143cb8d.jpg#3</td>\n",
       "      <td>Two children wearing jeans squirt water at eac...</td>\n",
       "      <td>1177994172_10d143cb8d.jpg</td>\n",
       "    </tr>\n",
       "    <tr>\n",
       "      <th>4</th>\n",
       "      <td>1177994172_10d143cb8d.jpg#4</td>\n",
       "      <td>Two young boys are squirting water at each oth...</td>\n",
       "      <td>1177994172_10d143cb8d.jpg</td>\n",
       "    </tr>\n",
       "  </tbody>\n",
       "</table>\n",
       "</div>"
      ],
      "text/plain": [
       "                      query_id  \\\n",
       "0  1177994172_10d143cb8d.jpg#0   \n",
       "1  1177994172_10d143cb8d.jpg#1   \n",
       "2  1177994172_10d143cb8d.jpg#2   \n",
       "3  1177994172_10d143cb8d.jpg#3   \n",
       "4  1177994172_10d143cb8d.jpg#4   \n",
       "\n",
       "                                          query_text  \\\n",
       "0  Two blonde boys , one in a camouflage shirt an...   \n",
       "1  Two boys are squirting water guns at each other .   \n",
       "2            Two boys spraying each other with water   \n",
       "3  Two children wearing jeans squirt water at eac...   \n",
       "4  Two young boys are squirting water at each oth...   \n",
       "\n",
       "                       image  \n",
       "0  1177994172_10d143cb8d.jpg  \n",
       "1  1177994172_10d143cb8d.jpg  \n",
       "2  1177994172_10d143cb8d.jpg  \n",
       "3  1177994172_10d143cb8d.jpg  \n",
       "4  1177994172_10d143cb8d.jpg  "
      ]
     },
     "metadata": {},
     "output_type": "display_data"
    },
    {
     "name": "stdout",
     "output_type": "stream",
     "text": [
      "<class 'pandas.core.frame.DataFrame'>\n",
      "Int64Index: 500 entries, 0 to 499\n",
      "Data columns (total 3 columns):\n",
      " #   Column      Non-Null Count  Dtype \n",
      "---  ------      --------------  ----- \n",
      " 0   query_id    500 non-null    object\n",
      " 1   query_text  500 non-null    object\n",
      " 2   image       500 non-null    object\n",
      "dtypes: object(3)\n",
      "memory usage: 15.6+ KB\n"
     ]
    }
   ],
   "source": [
    "test_queries = file_read(pth_2, '|', index=['Unnamed: 0'])\n",
    "display(test_queries.head())\n",
    "test_queries.info()"
   ]
  },
  {
   "cell_type": "code",
   "execution_count": 6,
   "id": "9151108e",
   "metadata": {},
   "outputs": [
    {
     "data": {
      "text/html": [
       "<div>\n",
       "<style scoped>\n",
       "    .dataframe tbody tr th:only-of-type {\n",
       "        vertical-align: middle;\n",
       "    }\n",
       "\n",
       "    .dataframe tbody tr th {\n",
       "        vertical-align: top;\n",
       "    }\n",
       "\n",
       "    .dataframe thead th {\n",
       "        text-align: right;\n",
       "    }\n",
       "</style>\n",
       "<table border=\"1\" class=\"dataframe\">\n",
       "  <thead>\n",
       "    <tr style=\"text-align: right;\">\n",
       "      <th></th>\n",
       "      <th>image</th>\n",
       "    </tr>\n",
       "  </thead>\n",
       "  <tbody>\n",
       "    <tr>\n",
       "      <th>0</th>\n",
       "      <td>3356748019_2251399314.jpg</td>\n",
       "    </tr>\n",
       "    <tr>\n",
       "      <th>1</th>\n",
       "      <td>2887171449_f54a2b9f39.jpg</td>\n",
       "    </tr>\n",
       "    <tr>\n",
       "      <th>2</th>\n",
       "      <td>3089107423_81a24eaf18.jpg</td>\n",
       "    </tr>\n",
       "    <tr>\n",
       "      <th>3</th>\n",
       "      <td>1429546659_44cb09cbe2.jpg</td>\n",
       "    </tr>\n",
       "    <tr>\n",
       "      <th>4</th>\n",
       "      <td>1177994172_10d143cb8d.jpg</td>\n",
       "    </tr>\n",
       "  </tbody>\n",
       "</table>\n",
       "</div>"
      ],
      "text/plain": [
       "                       image\n",
       "0  3356748019_2251399314.jpg\n",
       "1  2887171449_f54a2b9f39.jpg\n",
       "2  3089107423_81a24eaf18.jpg\n",
       "3  1429546659_44cb09cbe2.jpg\n",
       "4  1177994172_10d143cb8d.jpg"
      ]
     },
     "metadata": {},
     "output_type": "display_data"
    },
    {
     "name": "stdout",
     "output_type": "stream",
     "text": [
      "<class 'pandas.core.frame.DataFrame'>\n",
      "RangeIndex: 100 entries, 0 to 99\n",
      "Data columns (total 1 columns):\n",
      " #   Column  Non-Null Count  Dtype \n",
      "---  ------  --------------  ----- \n",
      " 0   image   100 non-null    object\n",
      "dtypes: object(1)\n",
      "memory usage: 928.0+ bytes\n"
     ]
    }
   ],
   "source": [
    "test_images = file_read(pth_3, ',')\n",
    "display(test_images.head())\n",
    "test_images.info()"
   ]
  },
  {
   "cell_type": "code",
   "execution_count": 7,
   "id": "473584eb",
   "metadata": {},
   "outputs": [
    {
     "data": {
      "text/html": [
       "<div>\n",
       "<style scoped>\n",
       "    .dataframe tbody tr th:only-of-type {\n",
       "        vertical-align: middle;\n",
       "    }\n",
       "\n",
       "    .dataframe tbody tr th {\n",
       "        vertical-align: top;\n",
       "    }\n",
       "\n",
       "    .dataframe thead th {\n",
       "        text-align: right;\n",
       "    }\n",
       "</style>\n",
       "<table border=\"1\" class=\"dataframe\">\n",
       "  <thead>\n",
       "    <tr style=\"text-align: right;\">\n",
       "      <th></th>\n",
       "      <th>image</th>\n",
       "      <th>query_id</th>\n",
       "      <th>first_expert</th>\n",
       "      <th>second_expert</th>\n",
       "      <th>third_expert</th>\n",
       "    </tr>\n",
       "  </thead>\n",
       "  <tbody>\n",
       "    <tr>\n",
       "      <th>0</th>\n",
       "      <td>1056338697_4f7d7ce270.jpg</td>\n",
       "      <td>2549968784_39bfbe44f9.jpg#2</td>\n",
       "      <td>1</td>\n",
       "      <td>1</td>\n",
       "      <td>1</td>\n",
       "    </tr>\n",
       "    <tr>\n",
       "      <th>1</th>\n",
       "      <td>1056338697_4f7d7ce270.jpg</td>\n",
       "      <td>2718495608_d8533e3ac5.jpg#2</td>\n",
       "      <td>1</td>\n",
       "      <td>1</td>\n",
       "      <td>2</td>\n",
       "    </tr>\n",
       "    <tr>\n",
       "      <th>2</th>\n",
       "      <td>1056338697_4f7d7ce270.jpg</td>\n",
       "      <td>3181701312_70a379ab6e.jpg#2</td>\n",
       "      <td>1</td>\n",
       "      <td>1</td>\n",
       "      <td>2</td>\n",
       "    </tr>\n",
       "    <tr>\n",
       "      <th>3</th>\n",
       "      <td>1056338697_4f7d7ce270.jpg</td>\n",
       "      <td>3207358897_bfa61fa3c6.jpg#2</td>\n",
       "      <td>1</td>\n",
       "      <td>2</td>\n",
       "      <td>2</td>\n",
       "    </tr>\n",
       "    <tr>\n",
       "      <th>4</th>\n",
       "      <td>1056338697_4f7d7ce270.jpg</td>\n",
       "      <td>3286822339_5535af6b93.jpg#2</td>\n",
       "      <td>1</td>\n",
       "      <td>1</td>\n",
       "      <td>2</td>\n",
       "    </tr>\n",
       "  </tbody>\n",
       "</table>\n",
       "</div>"
      ],
      "text/plain": [
       "                       image                     query_id  first_expert  \\\n",
       "0  1056338697_4f7d7ce270.jpg  2549968784_39bfbe44f9.jpg#2             1   \n",
       "1  1056338697_4f7d7ce270.jpg  2718495608_d8533e3ac5.jpg#2             1   \n",
       "2  1056338697_4f7d7ce270.jpg  3181701312_70a379ab6e.jpg#2             1   \n",
       "3  1056338697_4f7d7ce270.jpg  3207358897_bfa61fa3c6.jpg#2             1   \n",
       "4  1056338697_4f7d7ce270.jpg  3286822339_5535af6b93.jpg#2             1   \n",
       "\n",
       "   second_expert  third_expert  \n",
       "0              1             1  \n",
       "1              1             2  \n",
       "2              1             2  \n",
       "3              2             2  \n",
       "4              1             2  "
      ]
     },
     "metadata": {},
     "output_type": "display_data"
    },
    {
     "name": "stdout",
     "output_type": "stream",
     "text": [
      "<class 'pandas.core.frame.DataFrame'>\n",
      "RangeIndex: 5822 entries, 0 to 5821\n",
      "Data columns (total 5 columns):\n",
      " #   Column         Non-Null Count  Dtype \n",
      "---  ------         --------------  ----- \n",
      " 0   image          5822 non-null   object\n",
      " 1   query_id       5822 non-null   object\n",
      " 2   first_expert   5822 non-null   int64 \n",
      " 3   second_expert  5822 non-null   int64 \n",
      " 4   third_expert   5822 non-null   int64 \n",
      "dtypes: int64(3), object(2)\n",
      "memory usage: 227.5+ KB\n"
     ]
    }
   ],
   "source": [
    "expert_annotations = file_read(pth_5, '\\t', names=['image', 'query_id', 'first_expert', 'second_expert', 'third_expert'])\n",
    "display(expert_annotations.head())\n",
    "expert_annotations.info()"
   ]
  },
  {
   "cell_type": "markdown",
   "id": "0fbd4e31",
   "metadata": {},
   "source": [
    "Данные загружены и просмотрены. Несоответсвия содержания с названиями колонок не обнаружили, стиль написания некоторых таблиц был приведен к змеиному стилю. Пропусков в данных не обнаружено, проверим дополнительно нет ли дублирующихся строк."
   ]
  },
  {
   "cell_type": "markdown",
   "id": "fcab51c1",
   "metadata": {},
   "source": [
    "Так как в нашем распоряжении есть оценки с крауд-сервиса и экспертные, выберем те которым можно больше доверять.  \n",
    "В случае нашей работы хорошим решением будет доверится экспертной оценке и на их основе сделать одну общую.  \n",
    "Общую оценку сделаем ссуммировав все оценки экспертов и выбрав для сумм уровень доверия в интервале от 0 до 1, где 0 - полностью не соответствует запросу, а 1 - полностью соответсвует запросу, при этом значения между ними понимаются как вероятность соответствия изображения запросу."
   ]
  },
  {
   "cell_type": "markdown",
   "id": "26bcb078",
   "metadata": {},
   "source": [
    "## 2. Предобработка данных и исследование"
   ]
  },
  {
   "cell_type": "code",
   "execution_count": 8,
   "id": "c696568e",
   "metadata": {},
   "outputs": [],
   "source": [
    "#для проверки на дубликаты используем функцию\n",
    "def completeness_check(ittor, table):\n",
    "    value = ittor.duplicated().sum()\n",
    "    print(f'Полных дубликатов в таблице {table} - {value}')"
   ]
  },
  {
   "cell_type": "code",
   "execution_count": 9,
   "id": "7582bf3c",
   "metadata": {},
   "outputs": [
    {
     "name": "stdout",
     "output_type": "stream",
     "text": [
      "Полных дубликатов в таблице c тренировочными запросами - 0\n"
     ]
    }
   ],
   "source": [
    "completeness_check(train_queries, 'c тренировочными запросами')"
   ]
  },
  {
   "cell_type": "code",
   "execution_count": 10,
   "id": "c03a6307",
   "metadata": {},
   "outputs": [
    {
     "name": "stdout",
     "output_type": "stream",
     "text": [
      "Полных дубликатов в таблице c тестовыми запросами - 0\n"
     ]
    }
   ],
   "source": [
    "completeness_check(test_queries, 'c тестовыми запросами')"
   ]
  },
  {
   "cell_type": "code",
   "execution_count": 11,
   "id": "dd7a4ae6",
   "metadata": {},
   "outputs": [
    {
     "name": "stdout",
     "output_type": "stream",
     "text": [
      "Полных дубликатов в таблице c тестовыми изображениями - 0\n"
     ]
    }
   ],
   "source": [
    "completeness_check(test_images, 'c тестовыми изображениями')"
   ]
  },
  {
   "cell_type": "code",
   "execution_count": 12,
   "id": "2d14c240",
   "metadata": {},
   "outputs": [
    {
     "name": "stdout",
     "output_type": "stream",
     "text": [
      "Полных дубликатов в таблице c аннотациями експертов - 0\n"
     ]
    }
   ],
   "source": [
    "completeness_check(expert_annotations, 'c аннотациями експертов')"
   ]
  },
  {
   "cell_type": "markdown",
   "id": "0ceeebc2",
   "metadata": {},
   "source": [
    "Дубликатов не обнаружили. Теперь объеденим колонки с оценками взяв их сумму."
   ]
  },
  {
   "cell_type": "code",
   "execution_count": 13,
   "id": "c8e6b241",
   "metadata": {},
   "outputs": [
    {
     "data": {
      "text/html": [
       "<div>\n",
       "<style scoped>\n",
       "    .dataframe tbody tr th:only-of-type {\n",
       "        vertical-align: middle;\n",
       "    }\n",
       "\n",
       "    .dataframe tbody tr th {\n",
       "        vertical-align: top;\n",
       "    }\n",
       "\n",
       "    .dataframe thead th {\n",
       "        text-align: right;\n",
       "    }\n",
       "</style>\n",
       "<table border=\"1\" class=\"dataframe\">\n",
       "  <thead>\n",
       "    <tr style=\"text-align: right;\">\n",
       "      <th></th>\n",
       "      <th>image</th>\n",
       "      <th>query_id</th>\n",
       "      <th>first_expert</th>\n",
       "      <th>second_expert</th>\n",
       "      <th>third_expert</th>\n",
       "      <th>combined_mark</th>\n",
       "    </tr>\n",
       "  </thead>\n",
       "  <tbody>\n",
       "    <tr>\n",
       "      <th>0</th>\n",
       "      <td>1056338697_4f7d7ce270.jpg</td>\n",
       "      <td>2549968784_39bfbe44f9.jpg#2</td>\n",
       "      <td>1</td>\n",
       "      <td>1</td>\n",
       "      <td>1</td>\n",
       "      <td>3</td>\n",
       "    </tr>\n",
       "    <tr>\n",
       "      <th>1</th>\n",
       "      <td>1056338697_4f7d7ce270.jpg</td>\n",
       "      <td>2718495608_d8533e3ac5.jpg#2</td>\n",
       "      <td>1</td>\n",
       "      <td>1</td>\n",
       "      <td>2</td>\n",
       "      <td>4</td>\n",
       "    </tr>\n",
       "    <tr>\n",
       "      <th>2</th>\n",
       "      <td>1056338697_4f7d7ce270.jpg</td>\n",
       "      <td>3181701312_70a379ab6e.jpg#2</td>\n",
       "      <td>1</td>\n",
       "      <td>1</td>\n",
       "      <td>2</td>\n",
       "      <td>4</td>\n",
       "    </tr>\n",
       "    <tr>\n",
       "      <th>3</th>\n",
       "      <td>1056338697_4f7d7ce270.jpg</td>\n",
       "      <td>3207358897_bfa61fa3c6.jpg#2</td>\n",
       "      <td>1</td>\n",
       "      <td>2</td>\n",
       "      <td>2</td>\n",
       "      <td>5</td>\n",
       "    </tr>\n",
       "    <tr>\n",
       "      <th>4</th>\n",
       "      <td>1056338697_4f7d7ce270.jpg</td>\n",
       "      <td>3286822339_5535af6b93.jpg#2</td>\n",
       "      <td>1</td>\n",
       "      <td>1</td>\n",
       "      <td>2</td>\n",
       "      <td>4</td>\n",
       "    </tr>\n",
       "  </tbody>\n",
       "</table>\n",
       "</div>"
      ],
      "text/plain": [
       "                       image                     query_id  first_expert  \\\n",
       "0  1056338697_4f7d7ce270.jpg  2549968784_39bfbe44f9.jpg#2             1   \n",
       "1  1056338697_4f7d7ce270.jpg  2718495608_d8533e3ac5.jpg#2             1   \n",
       "2  1056338697_4f7d7ce270.jpg  3181701312_70a379ab6e.jpg#2             1   \n",
       "3  1056338697_4f7d7ce270.jpg  3207358897_bfa61fa3c6.jpg#2             1   \n",
       "4  1056338697_4f7d7ce270.jpg  3286822339_5535af6b93.jpg#2             1   \n",
       "\n",
       "   second_expert  third_expert  combined_mark  \n",
       "0              1             1              3  \n",
       "1              1             2              4  \n",
       "2              1             2              4  \n",
       "3              2             2              5  \n",
       "4              1             2              4  "
      ]
     },
     "metadata": {},
     "output_type": "display_data"
    }
   ],
   "source": [
    "\n",
    "expert_annotations['combined_mark'] = expert_annotations['first_expert'] + expert_annotations['second_expert'] + expert_annotations['third_expert']\n",
    "display(expert_annotations.head())"
   ]
  },
  {
   "cell_type": "code",
   "execution_count": 14,
   "id": "cc121782",
   "metadata": {},
   "outputs": [],
   "source": [
    "#для разбивки сумм на вероятности, воспользуемся функцией\n",
    "def probs(row):\n",
    "    sum = row['combined_mark']\n",
    "    if sum <= 4:\n",
    "        return 0\n",
    "    if sum <= 6:\n",
    "        return 0.1\n",
    "    if sum <= 8:\n",
    "        return 0.3\n",
    "    if sum == 9:\n",
    "        return 0.6\n",
    "    if sum == 10:\n",
    "        return 0.75\n",
    "    if sum == 11:\n",
    "        return 0.9\n",
    "    if sum == 12:\n",
    "        return 1"
   ]
  },
  {
   "cell_type": "code",
   "execution_count": 15,
   "id": "c25afa49",
   "metadata": {},
   "outputs": [
    {
     "data": {
      "text/html": [
       "<div>\n",
       "<style scoped>\n",
       "    .dataframe tbody tr th:only-of-type {\n",
       "        vertical-align: middle;\n",
       "    }\n",
       "\n",
       "    .dataframe tbody tr th {\n",
       "        vertical-align: top;\n",
       "    }\n",
       "\n",
       "    .dataframe thead th {\n",
       "        text-align: right;\n",
       "    }\n",
       "</style>\n",
       "<table border=\"1\" class=\"dataframe\">\n",
       "  <thead>\n",
       "    <tr style=\"text-align: right;\">\n",
       "      <th></th>\n",
       "      <th>image</th>\n",
       "      <th>query_id</th>\n",
       "      <th>first_expert</th>\n",
       "      <th>second_expert</th>\n",
       "      <th>third_expert</th>\n",
       "      <th>combined_mark</th>\n",
       "      <th>probabilities</th>\n",
       "    </tr>\n",
       "  </thead>\n",
       "  <tbody>\n",
       "    <tr>\n",
       "      <th>0</th>\n",
       "      <td>1056338697_4f7d7ce270.jpg</td>\n",
       "      <td>2549968784_39bfbe44f9.jpg#2</td>\n",
       "      <td>1</td>\n",
       "      <td>1</td>\n",
       "      <td>1</td>\n",
       "      <td>3</td>\n",
       "      <td>0.0</td>\n",
       "    </tr>\n",
       "    <tr>\n",
       "      <th>1</th>\n",
       "      <td>1056338697_4f7d7ce270.jpg</td>\n",
       "      <td>2718495608_d8533e3ac5.jpg#2</td>\n",
       "      <td>1</td>\n",
       "      <td>1</td>\n",
       "      <td>2</td>\n",
       "      <td>4</td>\n",
       "      <td>0.0</td>\n",
       "    </tr>\n",
       "    <tr>\n",
       "      <th>2</th>\n",
       "      <td>1056338697_4f7d7ce270.jpg</td>\n",
       "      <td>3181701312_70a379ab6e.jpg#2</td>\n",
       "      <td>1</td>\n",
       "      <td>1</td>\n",
       "      <td>2</td>\n",
       "      <td>4</td>\n",
       "      <td>0.0</td>\n",
       "    </tr>\n",
       "    <tr>\n",
       "      <th>3</th>\n",
       "      <td>1056338697_4f7d7ce270.jpg</td>\n",
       "      <td>3207358897_bfa61fa3c6.jpg#2</td>\n",
       "      <td>1</td>\n",
       "      <td>2</td>\n",
       "      <td>2</td>\n",
       "      <td>5</td>\n",
       "      <td>0.1</td>\n",
       "    </tr>\n",
       "    <tr>\n",
       "      <th>4</th>\n",
       "      <td>1056338697_4f7d7ce270.jpg</td>\n",
       "      <td>3286822339_5535af6b93.jpg#2</td>\n",
       "      <td>1</td>\n",
       "      <td>1</td>\n",
       "      <td>2</td>\n",
       "      <td>4</td>\n",
       "      <td>0.0</td>\n",
       "    </tr>\n",
       "  </tbody>\n",
       "</table>\n",
       "</div>"
      ],
      "text/plain": [
       "                       image                     query_id  first_expert  \\\n",
       "0  1056338697_4f7d7ce270.jpg  2549968784_39bfbe44f9.jpg#2             1   \n",
       "1  1056338697_4f7d7ce270.jpg  2718495608_d8533e3ac5.jpg#2             1   \n",
       "2  1056338697_4f7d7ce270.jpg  3181701312_70a379ab6e.jpg#2             1   \n",
       "3  1056338697_4f7d7ce270.jpg  3207358897_bfa61fa3c6.jpg#2             1   \n",
       "4  1056338697_4f7d7ce270.jpg  3286822339_5535af6b93.jpg#2             1   \n",
       "\n",
       "   second_expert  third_expert  combined_mark  probabilities  \n",
       "0              1             1              3            0.0  \n",
       "1              1             2              4            0.0  \n",
       "2              1             2              4            0.0  \n",
       "3              2             2              5            0.1  \n",
       "4              1             2              4            0.0  "
      ]
     },
     "metadata": {},
     "output_type": "display_data"
    }
   ],
   "source": [
    "#применим функцию, для получения новых оценок\n",
    "expert_annotations['probabilities'] = expert_annotations.apply(probs, axis=1)\n",
    "display(expert_annotations.head())"
   ]
  },
  {
   "cell_type": "code",
   "execution_count": 16,
   "id": "808cc48b",
   "metadata": {},
   "outputs": [
    {
     "data": {
      "text/html": [
       "<div>\n",
       "<style scoped>\n",
       "    .dataframe tbody tr th:only-of-type {\n",
       "        vertical-align: middle;\n",
       "    }\n",
       "\n",
       "    .dataframe tbody tr th {\n",
       "        vertical-align: top;\n",
       "    }\n",
       "\n",
       "    .dataframe thead th {\n",
       "        text-align: right;\n",
       "    }\n",
       "</style>\n",
       "<table border=\"1\" class=\"dataframe\">\n",
       "  <thead>\n",
       "    <tr style=\"text-align: right;\">\n",
       "      <th></th>\n",
       "      <th>image</th>\n",
       "      <th>query_id</th>\n",
       "      <th>query_text</th>\n",
       "      <th>first_expert</th>\n",
       "      <th>second_expert</th>\n",
       "      <th>third_expert</th>\n",
       "      <th>combined_mark</th>\n",
       "      <th>probabilities</th>\n",
       "    </tr>\n",
       "  </thead>\n",
       "  <tbody>\n",
       "    <tr>\n",
       "      <th>0</th>\n",
       "      <td>1056338697_4f7d7ce270.jpg</td>\n",
       "      <td>2549968784_39bfbe44f9.jpg#2</td>\n",
       "      <td>A young child is wearing blue goggles and sitt...</td>\n",
       "      <td>1</td>\n",
       "      <td>1</td>\n",
       "      <td>1</td>\n",
       "      <td>3</td>\n",
       "      <td>0.0</td>\n",
       "    </tr>\n",
       "    <tr>\n",
       "      <th>1</th>\n",
       "      <td>1262583859_653f1469a9.jpg</td>\n",
       "      <td>2549968784_39bfbe44f9.jpg#2</td>\n",
       "      <td>A young child is wearing blue goggles and sitt...</td>\n",
       "      <td>1</td>\n",
       "      <td>1</td>\n",
       "      <td>1</td>\n",
       "      <td>3</td>\n",
       "      <td>0.0</td>\n",
       "    </tr>\n",
       "    <tr>\n",
       "      <th>2</th>\n",
       "      <td>2447284966_d6bbdb4b6e.jpg</td>\n",
       "      <td>2549968784_39bfbe44f9.jpg#2</td>\n",
       "      <td>A young child is wearing blue goggles and sitt...</td>\n",
       "      <td>1</td>\n",
       "      <td>2</td>\n",
       "      <td>2</td>\n",
       "      <td>5</td>\n",
       "      <td>0.1</td>\n",
       "    </tr>\n",
       "    <tr>\n",
       "      <th>3</th>\n",
       "      <td>2549968784_39bfbe44f9.jpg</td>\n",
       "      <td>2549968784_39bfbe44f9.jpg#2</td>\n",
       "      <td>A young child is wearing blue goggles and sitt...</td>\n",
       "      <td>4</td>\n",
       "      <td>4</td>\n",
       "      <td>4</td>\n",
       "      <td>12</td>\n",
       "      <td>1.0</td>\n",
       "    </tr>\n",
       "    <tr>\n",
       "      <th>4</th>\n",
       "      <td>2621415349_ef1a7e73be.jpg</td>\n",
       "      <td>2549968784_39bfbe44f9.jpg#2</td>\n",
       "      <td>A young child is wearing blue goggles and sitt...</td>\n",
       "      <td>1</td>\n",
       "      <td>1</td>\n",
       "      <td>1</td>\n",
       "      <td>3</td>\n",
       "      <td>0.0</td>\n",
       "    </tr>\n",
       "  </tbody>\n",
       "</table>\n",
       "</div>"
      ],
      "text/plain": [
       "                       image                     query_id  \\\n",
       "0  1056338697_4f7d7ce270.jpg  2549968784_39bfbe44f9.jpg#2   \n",
       "1  1262583859_653f1469a9.jpg  2549968784_39bfbe44f9.jpg#2   \n",
       "2  2447284966_d6bbdb4b6e.jpg  2549968784_39bfbe44f9.jpg#2   \n",
       "3  2549968784_39bfbe44f9.jpg  2549968784_39bfbe44f9.jpg#2   \n",
       "4  2621415349_ef1a7e73be.jpg  2549968784_39bfbe44f9.jpg#2   \n",
       "\n",
       "                                          query_text  first_expert  \\\n",
       "0  A young child is wearing blue goggles and sitt...             1   \n",
       "1  A young child is wearing blue goggles and sitt...             1   \n",
       "2  A young child is wearing blue goggles and sitt...             1   \n",
       "3  A young child is wearing blue goggles and sitt...             4   \n",
       "4  A young child is wearing blue goggles and sitt...             1   \n",
       "\n",
       "   second_expert  third_expert  combined_mark  probabilities  \n",
       "0              1             1              3            0.0  \n",
       "1              1             1              3            0.0  \n",
       "2              2             2              5            0.1  \n",
       "3              4             4             12            1.0  \n",
       "4              1             1              3            0.0  "
      ]
     },
     "metadata": {},
     "output_type": "display_data"
    },
    {
     "data": {
      "text/plain": [
       "(5822, 8)"
      ]
     },
     "execution_count": 16,
     "metadata": {},
     "output_type": "execute_result"
    }
   ],
   "source": [
    "#объединим таблицы с тренировочными данными и экспертными запросами\n",
    "train_with_marks = pd.merge(train_queries, expert_annotations, on=['image', 'query_id'], how='left')\n",
    "display(train_with_marks.head())\n",
    "\n",
    "train_with_marks.shape"
   ]
  },
  {
   "cell_type": "markdown",
   "id": "b561a95d",
   "metadata": {},
   "source": [
    "Проанализируем столбец с оценками с помощью графика"
   ]
  },
  {
   "cell_type": "code",
   "execution_count": 17,
   "id": "114f9945",
   "metadata": {},
   "outputs": [
    {
     "data": {
      "image/png": "[encoded data removed]",
      "text/plain": [
       "<Figure size 1200x600 with 2 Axes>"
      ]
     },
     "metadata": {},
     "output_type": "display_data"
    }
   ],
   "source": [
    "fig, (ax1, ax2) = plt.subplots(2, 1, sharex=True, gridspec_kw={'height_ratios': [2, 1]}, figsize=(12, 6))\n",
    "\n",
    "sns.histplot(train_with_marks['probabilities'], bins=10, kde=False, ax=ax1, color='skyblue')\n",
    "ax1.set_title('Гистограмма распределения значения принадлежности запроса картинке')\n",
    "ax1.set_ylabel('Вероятность')\n",
    "\n",
    "sns.boxplot(x=train_with_marks['probabilities'], ax=ax2, color='skyblue')\n",
    "ax2.set_title('Диаграмма размаха колонки c принадлежностью к запросам')\n",
    "ax2.set_xlabel('Разброс вероятности')\n",
    "ax2.set_ylabel('Probabilities')\n",
    "plt.grid('True')\n",
    "\n",
    "plt.tight_layout()\n",
    "plt.show()"
   ]
  },
  {
   "cell_type": "markdown",
   "id": "a966ecff",
   "metadata": {},
   "source": [
    "Судя по графику разброса большая часть изображений не соответсвует их описанию, если доверится экспертной оценке. Те что соответствуют ящик с усами считает выбросами, что на самом деле не так. Эти данные пригодятся при фильтрации запросов под закон о распространении информации."
   ]
  },
  {
   "cell_type": "markdown",
   "id": "6ec6981c",
   "metadata": {},
   "source": [
    "Для исполнения правил использования изображений с детьми до 16 лет необходимо отобрать фотографии, на которых по описанию могут присутствовать дети и исключить их из общей выборки. Для более корректного отбора воспользуемся оценками экспертов с уровнем уверенности не менее 0.7, чтобы в запрос попали только изображения с действительно нарушающими правила изображениями."
   ]
  },
  {
   "cell_type": "code",
   "execution_count": 18,
   "id": "b66fd18f",
   "metadata": {},
   "outputs": [
    {
     "name": "stdout",
     "output_type": "stream",
     "text": [
      "609 1000\n"
     ]
    },
    {
     "data": {
      "text/plain": [
       "(5240, 8)"
      ]
     },
     "execution_count": 18,
     "metadata": {},
     "output_type": "execute_result"
    }
   ],
   "source": [
    "#для выделения нужных слов описывающих возраст детей до 16 лет воспользуемся регулярным\n",
    "#выражением и исключим из таблицы изображения, которые могут нарушать правила обработки изображений\n",
    "res = train_with_marks['query_text'].str.contains(r\"'boy|boys|girl|girls|child|children|baby|newborn|kid|kids|teenager|teen|junior\")\n",
    "\n",
    "print(len(train_with_marks[res].image.unique().tolist()),\n",
    "      len(train_with_marks.image.unique().tolist()))\n",
    "\n",
    "train_with_marks_clear = train_with_marks[~((train_with_marks.image.isin(train_with_marks[res].image.unique().tolist()))\n",
    "                                                 & (train_with_marks['probabilities'] >= 0.3))].copy()\n",
    "train_with_marks_clear = train_with_marks_clear.reset_index(drop=True)\n",
    "train_with_marks_clear.shape\n"
   ]
  },
  {
   "cell_type": "markdown",
   "id": "5cd38f6a",
   "metadata": {},
   "source": [
    "<div class=\"alert\" style=\"background-color:#ead7f7;color:#8737bf\">\n",
    "    <font size=\"3\"><b>Комментарий студента</b></font>\n",
    "   \n",
    "Нужно ли оставлять по итогу только уникальные изображения или можно использовать весь датасет? Если нужно, то как это лучше сделать учитывая мою фильтрацию с помощью оценок экспертов?(первая итерация)\n",
    "\n",
    "</div>"
   ]
  },
  {
   "cell_type": "markdown",
   "id": "2c600703",
   "metadata": {},
   "source": [
    "Для перевода изображений в вектор воспользуемся классом ImageDataGenerator из библиотеки tensorflow"
   ]
  },
  {
   "cell_type": "code",
   "execution_count": 93,
   "id": "53caed0b",
   "metadata": {},
   "outputs": [],
   "source": [
    "def load_train(path, df):\n",
    "    train_datagen = ImageDataGenerator(#rotation_range=(45),\n",
    "                                       #vertical_flip=True,\n",
    "                                       rescale=1./255) \n",
    "    \n",
    "    train_datagen_flow = train_datagen.flow_from_dataframe(dataframe=df,\n",
    "                                              directory=path,\n",
    "                                              x_col='image',\n",
    "                                              y_col='probabilities',\n",
    "                                              target_size=(224, 224),\n",
    "                                              batch_size=16,\n",
    "                                              shuffle=False,\n",
    "                                              class_mode='raw',\n",
    "                                              subset='training',\n",
    "                                              seed=5678)\n",
    "    \n",
    "    return train_datagen_flow\n",
    "\n",
    "def load_test(path, df):\n",
    "    test_datagen = ImageDataGenerator(rescale=1./255)\n",
    " \n",
    "    test_datagen_flow = test_datagen.flow_from_dataframe(dataframe=df,\n",
    "                                              directory=path,\n",
    "                                              x_col='image',\n",
    "                                              y_col=None,\n",
    "                                              target_size=(224, 224),\n",
    "                                              shuffle=False,\n",
    "                                              batch_size=16,\n",
    "                                              class_mode=None,\n",
    "                                              seed=5678)\n",
    "    \n",
    "    return test_datagen_flow"
   ]
  },
  {
   "cell_type": "code",
   "execution_count": null,
   "id": "9c95af5f",
   "metadata": {},
   "outputs": [
    {
     "name": "stdout",
     "output_type": "stream",
     "text": [
      "Found 5240 validated image filenames.\n"
     ]
    }
   ],
   "source": [
    "#загрузим изображения\n",
    "train_images = load_train('D:combine_4/train_images', train_with_marks_clear)"
   ]
  },
  {
   "cell_type": "code",
   "execution_count": null,
   "id": "6a7eee1a",
   "metadata": {},
   "outputs": [],
   "source": [
    "#инициализируем модель для получения векторов\n",
    "def image_model(input_shape):\n",
    "    model = ResNet50(input_shape=input_shape,\n",
    "                    weights='imagenet',\n",
    "                    pooling='avg',\n",
    "                    include_top=False)\n",
    "    return model"
   ]
  },
  {
   "cell_type": "markdown",
   "id": "92bfe6c7",
   "metadata": {},
   "source": [
    "Как в код ниже можно добавить реализацию прогресс бара из nltk?"
   ]
  },
  {
   "cell_type": "code",
   "execution_count": null,
   "id": "2e97d44a",
   "metadata": {},
   "outputs": [
    {
     "name": "stdout",
     "output_type": "stream",
     "text": [
      "328/328 - 824s - 824s/epoch - 3s/step\n"
     ]
    }
   ],
   "source": [
    "#пропустим модель через изображения\n",
    "resnet = image_model((224, 224, 3))\n",
    "image_vector = resnet.predict(train_images, verbose=2)"
   ]
  },
  {
   "cell_type": "code",
   "execution_count": null,
   "id": "fd7c1513",
   "metadata": {},
   "outputs": [
    {
     "data": {
      "text/html": [
       "<div>\n",
       "<style scoped>\n",
       "    .dataframe tbody tr th:only-of-type {\n",
       "        vertical-align: middle;\n",
       "    }\n",
       "\n",
       "    .dataframe tbody tr th {\n",
       "        vertical-align: top;\n",
       "    }\n",
       "\n",
       "    .dataframe thead th {\n",
       "        text-align: right;\n",
       "    }\n",
       "</style>\n",
       "<table border=\"1\" class=\"dataframe\">\n",
       "  <thead>\n",
       "    <tr style=\"text-align: right;\">\n",
       "      <th></th>\n",
       "      <th>image</th>\n",
       "      <th>query_id</th>\n",
       "      <th>query_text</th>\n",
       "      <th>first_expert</th>\n",
       "      <th>second_expert</th>\n",
       "      <th>third_expert</th>\n",
       "      <th>combined_mark</th>\n",
       "      <th>probabilities</th>\n",
       "      <th>image_embedding</th>\n",
       "    </tr>\n",
       "  </thead>\n",
       "  <tbody>\n",
       "    <tr>\n",
       "      <th>0</th>\n",
       "      <td>1056338697_4f7d7ce270.jpg</td>\n",
       "      <td>2549968784_39bfbe44f9.jpg#2</td>\n",
       "      <td>A young child is wearing blue goggles and sitt...</td>\n",
       "      <td>1</td>\n",
       "      <td>1</td>\n",
       "      <td>1</td>\n",
       "      <td>3</td>\n",
       "      <td>0.0</td>\n",
       "      <td>[0.0, 0.0, 0.007829939, 0.0, 1.2201952, 0.0, 0...</td>\n",
       "    </tr>\n",
       "    <tr>\n",
       "      <th>1</th>\n",
       "      <td>1262583859_653f1469a9.jpg</td>\n",
       "      <td>2549968784_39bfbe44f9.jpg#2</td>\n",
       "      <td>A young child is wearing blue goggles and sitt...</td>\n",
       "      <td>1</td>\n",
       "      <td>1</td>\n",
       "      <td>1</td>\n",
       "      <td>3</td>\n",
       "      <td>0.0</td>\n",
       "      <td>[0.0, 0.0, 0.0, 0.0, 0.9342685, 0.0, 0.0, 0.62...</td>\n",
       "    </tr>\n",
       "    <tr>\n",
       "      <th>2</th>\n",
       "      <td>2447284966_d6bbdb4b6e.jpg</td>\n",
       "      <td>2549968784_39bfbe44f9.jpg#2</td>\n",
       "      <td>A young child is wearing blue goggles and sitt...</td>\n",
       "      <td>1</td>\n",
       "      <td>2</td>\n",
       "      <td>2</td>\n",
       "      <td>5</td>\n",
       "      <td>0.1</td>\n",
       "      <td>[0.0, 0.0, 0.0018150831, 0.0, 1.2082343, 0.0, ...</td>\n",
       "    </tr>\n",
       "    <tr>\n",
       "      <th>3</th>\n",
       "      <td>2621415349_ef1a7e73be.jpg</td>\n",
       "      <td>2549968784_39bfbe44f9.jpg#2</td>\n",
       "      <td>A young child is wearing blue goggles and sitt...</td>\n",
       "      <td>1</td>\n",
       "      <td>1</td>\n",
       "      <td>1</td>\n",
       "      <td>3</td>\n",
       "      <td>0.0</td>\n",
       "      <td>[0.0, 0.0, 0.0, 0.0, 1.2475461, 0.0, 0.0, 1.00...</td>\n",
       "    </tr>\n",
       "    <tr>\n",
       "      <th>4</th>\n",
       "      <td>3155451946_c0862c70cb.jpg</td>\n",
       "      <td>2549968784_39bfbe44f9.jpg#2</td>\n",
       "      <td>A young child is wearing blue goggles and sitt...</td>\n",
       "      <td>1</td>\n",
       "      <td>1</td>\n",
       "      <td>1</td>\n",
       "      <td>3</td>\n",
       "      <td>0.0</td>\n",
       "      <td>[0.0, 0.0, 0.0014419653, 0.0, 0.99058235, 0.0,...</td>\n",
       "    </tr>\n",
       "  </tbody>\n",
       "</table>\n",
       "</div>"
      ],
      "text/plain": [
       "                       image                     query_id  \\\n",
       "0  1056338697_4f7d7ce270.jpg  2549968784_39bfbe44f9.jpg#2   \n",
       "1  1262583859_653f1469a9.jpg  2549968784_39bfbe44f9.jpg#2   \n",
       "2  2447284966_d6bbdb4b6e.jpg  2549968784_39bfbe44f9.jpg#2   \n",
       "3  2621415349_ef1a7e73be.jpg  2549968784_39bfbe44f9.jpg#2   \n",
       "4  3155451946_c0862c70cb.jpg  2549968784_39bfbe44f9.jpg#2   \n",
       "\n",
       "                                          query_text  first_expert  \\\n",
       "0  A young child is wearing blue goggles and sitt...             1   \n",
       "1  A young child is wearing blue goggles and sitt...             1   \n",
       "2  A young child is wearing blue goggles and sitt...             1   \n",
       "3  A young child is wearing blue goggles and sitt...             1   \n",
       "4  A young child is wearing blue goggles and sitt...             1   \n",
       "\n",
       "   second_expert  third_expert  combined_mark  probabilities  \\\n",
       "0              1             1              3            0.0   \n",
       "1              1             1              3            0.0   \n",
       "2              2             2              5            0.1   \n",
       "3              1             1              3            0.0   \n",
       "4              1             1              3            0.0   \n",
       "\n",
       "                                     image_embedding  \n",
       "0  [0.0, 0.0, 0.007829939, 0.0, 1.2201952, 0.0, 0...  \n",
       "1  [0.0, 0.0, 0.0, 0.0, 0.9342685, 0.0, 0.0, 0.62...  \n",
       "2  [0.0, 0.0, 0.0018150831, 0.0, 1.2082343, 0.0, ...  \n",
       "3  [0.0, 0.0, 0.0, 0.0, 1.2475461, 0.0, 0.0, 1.00...  \n",
       "4  [0.0, 0.0, 0.0014419653, 0.0, 0.99058235, 0.0,...  "
      ]
     },
     "metadata": {},
     "output_type": "display_data"
    }
   ],
   "source": [
    "#сохраним изображения в отдельном столбце, предварительно поменяв их размерность и тип\n",
    "image_embedding = image_vector.reshape(image_vector.shape[0], -1)\n",
    "\n",
    "train_with_marks_clear['image_embedding'] = list(image_embedding)\n",
    "display(train_with_marks_clear.head())"
   ]
  },
  {
   "cell_type": "markdown",
   "id": "8c73d65d",
   "metadata": {},
   "source": [
    "Теперь переведем текст в ембедингы для обучения модели"
   ]
  },
  {
   "cell_type": "code",
   "execution_count": null,
   "id": "168fee16",
   "metadata": {},
   "outputs": [],
   "source": [
    "#иниициализируем токенизатор для текста\n",
    "tokenizer = BertTokenizer.from_pretrained('bert-base-uncased')"
   ]
  },
  {
   "cell_type": "code",
   "execution_count": null,
   "id": "0cd606a2",
   "metadata": {},
   "outputs": [
    {
     "data": {
      "text/html": [
       "<div>\n",
       "<style scoped>\n",
       "    .dataframe tbody tr th:only-of-type {\n",
       "        vertical-align: middle;\n",
       "    }\n",
       "\n",
       "    .dataframe tbody tr th {\n",
       "        vertical-align: top;\n",
       "    }\n",
       "\n",
       "    .dataframe thead th {\n",
       "        text-align: right;\n",
       "    }\n",
       "</style>\n",
       "<table border=\"1\" class=\"dataframe\">\n",
       "  <thead>\n",
       "    <tr style=\"text-align: right;\">\n",
       "      <th></th>\n",
       "      <th>image</th>\n",
       "      <th>query_id</th>\n",
       "      <th>query_text</th>\n",
       "      <th>first_expert</th>\n",
       "      <th>second_expert</th>\n",
       "      <th>third_expert</th>\n",
       "      <th>combined_mark</th>\n",
       "      <th>probabilities</th>\n",
       "      <th>image_embedding</th>\n",
       "      <th>text_embeddings</th>\n",
       "    </tr>\n",
       "  </thead>\n",
       "  <tbody>\n",
       "    <tr>\n",
       "      <th>0</th>\n",
       "      <td>1056338697_4f7d7ce270.jpg</td>\n",
       "      <td>2549968784_39bfbe44f9.jpg#2</td>\n",
       "      <td>A young child is wearing blue goggles and sitt...</td>\n",
       "      <td>1</td>\n",
       "      <td>1</td>\n",
       "      <td>1</td>\n",
       "      <td>3</td>\n",
       "      <td>0.0</td>\n",
       "      <td>[0.0, 0.0, 0.007829939, 0.0, 1.2201952, 0.0, 0...</td>\n",
       "      <td>[101, 1037, 2402, 2775, 2003, 4147, 2630, 2175...</td>\n",
       "    </tr>\n",
       "    <tr>\n",
       "      <th>1</th>\n",
       "      <td>1262583859_653f1469a9.jpg</td>\n",
       "      <td>2549968784_39bfbe44f9.jpg#2</td>\n",
       "      <td>A young child is wearing blue goggles and sitt...</td>\n",
       "      <td>1</td>\n",
       "      <td>1</td>\n",
       "      <td>1</td>\n",
       "      <td>3</td>\n",
       "      <td>0.0</td>\n",
       "      <td>[0.0, 0.0, 0.0, 0.0, 0.9342685, 0.0, 0.0, 0.62...</td>\n",
       "      <td>[101, 1037, 2402, 2775, 2003, 4147, 2630, 2175...</td>\n",
       "    </tr>\n",
       "    <tr>\n",
       "      <th>2</th>\n",
       "      <td>2447284966_d6bbdb4b6e.jpg</td>\n",
       "      <td>2549968784_39bfbe44f9.jpg#2</td>\n",
       "      <td>A young child is wearing blue goggles and sitt...</td>\n",
       "      <td>1</td>\n",
       "      <td>2</td>\n",
       "      <td>2</td>\n",
       "      <td>5</td>\n",
       "      <td>0.1</td>\n",
       "      <td>[0.0, 0.0, 0.0018150831, 0.0, 1.2082343, 0.0, ...</td>\n",
       "      <td>[101, 1037, 2402, 2775, 2003, 4147, 2630, 2175...</td>\n",
       "    </tr>\n",
       "    <tr>\n",
       "      <th>3</th>\n",
       "      <td>2621415349_ef1a7e73be.jpg</td>\n",
       "      <td>2549968784_39bfbe44f9.jpg#2</td>\n",
       "      <td>A young child is wearing blue goggles and sitt...</td>\n",
       "      <td>1</td>\n",
       "      <td>1</td>\n",
       "      <td>1</td>\n",
       "      <td>3</td>\n",
       "      <td>0.0</td>\n",
       "      <td>[0.0, 0.0, 0.0, 0.0, 1.2475461, 0.0, 0.0, 1.00...</td>\n",
       "      <td>[101, 1037, 2402, 2775, 2003, 4147, 2630, 2175...</td>\n",
       "    </tr>\n",
       "    <tr>\n",
       "      <th>4</th>\n",
       "      <td>3155451946_c0862c70cb.jpg</td>\n",
       "      <td>2549968784_39bfbe44f9.jpg#2</td>\n",
       "      <td>A young child is wearing blue goggles and sitt...</td>\n",
       "      <td>1</td>\n",
       "      <td>1</td>\n",
       "      <td>1</td>\n",
       "      <td>3</td>\n",
       "      <td>0.0</td>\n",
       "      <td>[0.0, 0.0, 0.0014419653, 0.0, 0.99058235, 0.0,...</td>\n",
       "      <td>[101, 1037, 2402, 2775, 2003, 4147, 2630, 2175...</td>\n",
       "    </tr>\n",
       "  </tbody>\n",
       "</table>\n",
       "</div>"
      ],
      "text/plain": [
       "                       image                     query_id  \\\n",
       "0  1056338697_4f7d7ce270.jpg  2549968784_39bfbe44f9.jpg#2   \n",
       "1  1262583859_653f1469a9.jpg  2549968784_39bfbe44f9.jpg#2   \n",
       "2  2447284966_d6bbdb4b6e.jpg  2549968784_39bfbe44f9.jpg#2   \n",
       "3  2621415349_ef1a7e73be.jpg  2549968784_39bfbe44f9.jpg#2   \n",
       "4  3155451946_c0862c70cb.jpg  2549968784_39bfbe44f9.jpg#2   \n",
       "\n",
       "                                          query_text  first_expert  \\\n",
       "0  A young child is wearing blue goggles and sitt...             1   \n",
       "1  A young child is wearing blue goggles and sitt...             1   \n",
       "2  A young child is wearing blue goggles and sitt...             1   \n",
       "3  A young child is wearing blue goggles and sitt...             1   \n",
       "4  A young child is wearing blue goggles and sitt...             1   \n",
       "\n",
       "   second_expert  third_expert  combined_mark  probabilities  \\\n",
       "0              1             1              3            0.0   \n",
       "1              1             1              3            0.0   \n",
       "2              2             2              5            0.1   \n",
       "3              1             1              3            0.0   \n",
       "4              1             1              3            0.0   \n",
       "\n",
       "                                     image_embedding  \\\n",
       "0  [0.0, 0.0, 0.007829939, 0.0, 1.2201952, 0.0, 0...   \n",
       "1  [0.0, 0.0, 0.0, 0.0, 0.9342685, 0.0, 0.0, 0.62...   \n",
       "2  [0.0, 0.0, 0.0018150831, 0.0, 1.2082343, 0.0, ...   \n",
       "3  [0.0, 0.0, 0.0, 0.0, 1.2475461, 0.0, 0.0, 1.00...   \n",
       "4  [0.0, 0.0, 0.0014419653, 0.0, 0.99058235, 0.0,...   \n",
       "\n",
       "                                     text_embeddings  \n",
       "0  [101, 1037, 2402, 2775, 2003, 4147, 2630, 2175...  \n",
       "1  [101, 1037, 2402, 2775, 2003, 4147, 2630, 2175...  \n",
       "2  [101, 1037, 2402, 2775, 2003, 4147, 2630, 2175...  \n",
       "3  [101, 1037, 2402, 2775, 2003, 4147, 2630, 2175...  \n",
       "4  [101, 1037, 2402, 2775, 2003, 4147, 2630, 2175...  "
      ]
     },
     "metadata": {},
     "output_type": "display_data"
    }
   ],
   "source": [
    "#токенизируем запросы нашего датасета\n",
    "train_with_marks_clear['text_embeddings'] = train_with_marks_clear['query_text'].apply(lambda x: np.array(tokenizer.encode(x, padding='max_length')))\n",
    "display(train_with_marks_clear.head())"
   ]
  },
  {
   "cell_type": "code",
   "execution_count": 26,
   "id": "fc490b3d",
   "metadata": {},
   "outputs": [
    {
     "data": {
      "text/plain": [
       "(2560,)"
      ]
     },
     "execution_count": 26,
     "metadata": {},
     "output_type": "execute_result"
    }
   ],
   "source": [
    "#объединим два вектора в один, чтобы преобразовать его в тензор при обучении модели\n",
    "train_with_marks_clear['concat_emb'] = train_with_marks_clear.apply(\n",
    "    lambda x: np.concatenate([x['image_embedding'], x['text_embeddings']]), axis=1)\n",
    "train_with_marks_clear['concat_emb'].iloc[0].shape"
   ]
  },
  {
   "cell_type": "markdown",
   "id": "e6f7f346",
   "metadata": {},
   "source": [
    "Теперь после получения нужных векторов приступим к обучению модели и получению предсказаний."
   ]
  },
  {
   "cell_type": "markdown",
   "id": "9dea1a26",
   "metadata": {},
   "source": [
    "## 3. Обучение моделей"
   ]
  },
  {
   "cell_type": "code",
   "execution_count": 27,
   "id": "02047e7d",
   "metadata": {},
   "outputs": [
    {
     "data": {
      "text/html": [
       "<div>\n",
       "<style scoped>\n",
       "    .dataframe tbody tr th:only-of-type {\n",
       "        vertical-align: middle;\n",
       "    }\n",
       "\n",
       "    .dataframe tbody tr th {\n",
       "        vertical-align: top;\n",
       "    }\n",
       "\n",
       "    .dataframe thead th {\n",
       "        text-align: right;\n",
       "    }\n",
       "</style>\n",
       "<table border=\"1\" class=\"dataframe\">\n",
       "  <thead>\n",
       "    <tr style=\"text-align: right;\">\n",
       "      <th></th>\n",
       "      <th>image</th>\n",
       "      <th>query_id</th>\n",
       "      <th>query_text</th>\n",
       "      <th>first_expert</th>\n",
       "      <th>second_expert</th>\n",
       "      <th>third_expert</th>\n",
       "      <th>combined_mark</th>\n",
       "      <th>probabilities</th>\n",
       "      <th>image_embedding</th>\n",
       "      <th>text_embeddings</th>\n",
       "      <th>concat_emb</th>\n",
       "      <th>gs_group_key</th>\n",
       "    </tr>\n",
       "  </thead>\n",
       "  <tbody>\n",
       "    <tr>\n",
       "      <th>0</th>\n",
       "      <td>1056338697_4f7d7ce270.jpg</td>\n",
       "      <td>2549968784_39bfbe44f9.jpg#2</td>\n",
       "      <td>A young child is wearing blue goggles and sitt...</td>\n",
       "      <td>1</td>\n",
       "      <td>1</td>\n",
       "      <td>1</td>\n",
       "      <td>3</td>\n",
       "      <td>0.0</td>\n",
       "      <td>[0.0, 0.0, 0.007829939, 0.0, 1.2201952, 0.0, 0...</td>\n",
       "      <td>[101, 1037, 2402, 2775, 2003, 4147, 2630, 2175...</td>\n",
       "      <td>[0.0, 0.0, 0.007829939015209675, 0.0, 1.220195...</td>\n",
       "      <td>1056338697_4f7d7ce270.jpg_2549968784_39bfbe44f...</td>\n",
       "    </tr>\n",
       "    <tr>\n",
       "      <th>1</th>\n",
       "      <td>1262583859_653f1469a9.jpg</td>\n",
       "      <td>2549968784_39bfbe44f9.jpg#2</td>\n",
       "      <td>A young child is wearing blue goggles and sitt...</td>\n",
       "      <td>1</td>\n",
       "      <td>1</td>\n",
       "      <td>1</td>\n",
       "      <td>3</td>\n",
       "      <td>0.0</td>\n",
       "      <td>[0.0, 0.0, 0.0, 0.0, 0.9342685, 0.0, 0.0, 0.62...</td>\n",
       "      <td>[101, 1037, 2402, 2775, 2003, 4147, 2630, 2175...</td>\n",
       "      <td>[0.0, 0.0, 0.0, 0.0, 0.9342684745788574, 0.0, ...</td>\n",
       "      <td>1262583859_653f1469a9.jpg_2549968784_39bfbe44f...</td>\n",
       "    </tr>\n",
       "    <tr>\n",
       "      <th>2</th>\n",
       "      <td>2447284966_d6bbdb4b6e.jpg</td>\n",
       "      <td>2549968784_39bfbe44f9.jpg#2</td>\n",
       "      <td>A young child is wearing blue goggles and sitt...</td>\n",
       "      <td>1</td>\n",
       "      <td>2</td>\n",
       "      <td>2</td>\n",
       "      <td>5</td>\n",
       "      <td>0.1</td>\n",
       "      <td>[0.0, 0.0, 0.0018150831, 0.0, 1.2082343, 0.0, ...</td>\n",
       "      <td>[101, 1037, 2402, 2775, 2003, 4147, 2630, 2175...</td>\n",
       "      <td>[0.0, 0.0, 0.0018150830874219537, 0.0, 1.20823...</td>\n",
       "      <td>2447284966_d6bbdb4b6e.jpg_2549968784_39bfbe44f...</td>\n",
       "    </tr>\n",
       "    <tr>\n",
       "      <th>3</th>\n",
       "      <td>2621415349_ef1a7e73be.jpg</td>\n",
       "      <td>2549968784_39bfbe44f9.jpg#2</td>\n",
       "      <td>A young child is wearing blue goggles and sitt...</td>\n",
       "      <td>1</td>\n",
       "      <td>1</td>\n",
       "      <td>1</td>\n",
       "      <td>3</td>\n",
       "      <td>0.0</td>\n",
       "      <td>[0.0, 0.0, 0.0, 0.0, 1.2475461, 0.0, 0.0, 1.00...</td>\n",
       "      <td>[101, 1037, 2402, 2775, 2003, 4147, 2630, 2175...</td>\n",
       "      <td>[0.0, 0.0, 0.0, 0.0, 1.2475460767745972, 0.0, ...</td>\n",
       "      <td>2621415349_ef1a7e73be.jpg_2549968784_39bfbe44f...</td>\n",
       "    </tr>\n",
       "    <tr>\n",
       "      <th>5</th>\n",
       "      <td>3222041930_f642f49d28.jpg</td>\n",
       "      <td>2549968784_39bfbe44f9.jpg#2</td>\n",
       "      <td>A young child is wearing blue goggles and sitt...</td>\n",
       "      <td>1</td>\n",
       "      <td>1</td>\n",
       "      <td>1</td>\n",
       "      <td>3</td>\n",
       "      <td>0.0</td>\n",
       "      <td>[0.0, 0.0, 0.018638976, 0.011048497, 0.9585813...</td>\n",
       "      <td>[101, 1037, 2402, 2775, 2003, 4147, 2630, 2175...</td>\n",
       "      <td>[0.0, 0.0, 0.018638975918293, 0.01104849670082...</td>\n",
       "      <td>3222041930_f642f49d28.jpg_2549968784_39bfbe44f...</td>\n",
       "    </tr>\n",
       "  </tbody>\n",
       "</table>\n",
       "</div>"
      ],
      "text/plain": [
       "                       image                     query_id  \\\n",
       "0  1056338697_4f7d7ce270.jpg  2549968784_39bfbe44f9.jpg#2   \n",
       "1  1262583859_653f1469a9.jpg  2549968784_39bfbe44f9.jpg#2   \n",
       "2  2447284966_d6bbdb4b6e.jpg  2549968784_39bfbe44f9.jpg#2   \n",
       "3  2621415349_ef1a7e73be.jpg  2549968784_39bfbe44f9.jpg#2   \n",
       "5  3222041930_f642f49d28.jpg  2549968784_39bfbe44f9.jpg#2   \n",
       "\n",
       "                                          query_text  first_expert  \\\n",
       "0  A young child is wearing blue goggles and sitt...             1   \n",
       "1  A young child is wearing blue goggles and sitt...             1   \n",
       "2  A young child is wearing blue goggles and sitt...             1   \n",
       "3  A young child is wearing blue goggles and sitt...             1   \n",
       "5  A young child is wearing blue goggles and sitt...             1   \n",
       "\n",
       "   second_expert  third_expert  combined_mark  probabilities  \\\n",
       "0              1             1              3            0.0   \n",
       "1              1             1              3            0.0   \n",
       "2              2             2              5            0.1   \n",
       "3              1             1              3            0.0   \n",
       "5              1             1              3            0.0   \n",
       "\n",
       "                                     image_embedding  \\\n",
       "0  [0.0, 0.0, 0.007829939, 0.0, 1.2201952, 0.0, 0...   \n",
       "1  [0.0, 0.0, 0.0, 0.0, 0.9342685, 0.0, 0.0, 0.62...   \n",
       "2  [0.0, 0.0, 0.0018150831, 0.0, 1.2082343, 0.0, ...   \n",
       "3  [0.0, 0.0, 0.0, 0.0, 1.2475461, 0.0, 0.0, 1.00...   \n",
       "5  [0.0, 0.0, 0.018638976, 0.011048497, 0.9585813...   \n",
       "\n",
       "                                     text_embeddings  \\\n",
       "0  [101, 1037, 2402, 2775, 2003, 4147, 2630, 2175...   \n",
       "1  [101, 1037, 2402, 2775, 2003, 4147, 2630, 2175...   \n",
       "2  [101, 1037, 2402, 2775, 2003, 4147, 2630, 2175...   \n",
       "3  [101, 1037, 2402, 2775, 2003, 4147, 2630, 2175...   \n",
       "5  [101, 1037, 2402, 2775, 2003, 4147, 2630, 2175...   \n",
       "\n",
       "                                          concat_emb  \\\n",
       "0  [0.0, 0.0, 0.007829939015209675, 0.0, 1.220195...   \n",
       "1  [0.0, 0.0, 0.0, 0.0, 0.9342684745788574, 0.0, ...   \n",
       "2  [0.0, 0.0, 0.0018150830874219537, 0.0, 1.20823...   \n",
       "3  [0.0, 0.0, 0.0, 0.0, 1.2475460767745972, 0.0, ...   \n",
       "5  [0.0, 0.0, 0.018638975918293, 0.01104849670082...   \n",
       "\n",
       "                                        gs_group_key  \n",
       "0  1056338697_4f7d7ce270.jpg_2549968784_39bfbe44f...  \n",
       "1  1262583859_653f1469a9.jpg_2549968784_39bfbe44f...  \n",
       "2  2447284966_d6bbdb4b6e.jpg_2549968784_39bfbe44f...  \n",
       "3  2621415349_ef1a7e73be.jpg_2549968784_39bfbe44f...  \n",
       "5  3222041930_f642f49d28.jpg_2549968784_39bfbe44f...  "
      ]
     },
     "execution_count": 27,
     "metadata": {},
     "output_type": "execute_result"
    }
   ],
   "source": [
    "#для разбивки данных воспользуемся методом GroupShuffleSplit из библиотеки sklearn чтобы исключить попадение одного и того-же изображения в обе выборки \n",
    "gss = GroupShuffleSplit(n_splits=1, train_size=.7, random_state=42)\n",
    "#создадим колонку для группировки по уникальным сочетаниям изображение-запрос\n",
    "train_with_marks_clear['gs_group_key'] = train_with_marks_clear['image'].astype(str) + '_' + train_with_marks_clear['query_id'].astype(str)\n",
    "#теперь сгруппируем данные\n",
    "train_indices, test_indices = next(gss.split(X=train_with_marks_clear.drop(columns=['probabilities']),\n",
    "                                            y=train_with_marks_clear['probabilities'],\n",
    "                                            groups=train_with_marks_clear['gs_group_key']))\n",
    "\n",
    "train_df, test_df = train_with_marks_clear.iloc[train_indices], train_with_marks_clear.iloc[test_indices]\n",
    "train_df.head()"
   ]
  },
  {
   "cell_type": "code",
   "execution_count": null,
   "id": "78aba510",
   "metadata": {},
   "outputs": [],
   "source": [
    "#отбросим ненужные колонки для модели и создадим тренировочные выборки\n",
    "columns_to_drop = ['image', 'gs_group_key',\n",
    "                   'query_id', 'query_text',\n",
    "                   'first_expert', 'second_expert',\n",
    "                    'third_expert', 'combined_mark',\n",
    "                    'probabilities', 'image_embedding',\n",
    "                    'text_embeddings']\n",
    "X_train = train_df.drop(columns_to_drop, axis=1)\n",
    "X_test = test_df.drop(columns_to_drop, axis=1)\n",
    "y_train = train_df['probabilities'].values\n",
    "y_test = test_df['probabilities'].values\n",
    "\n",
    "#признаки для тренировки линейной регрессии\n",
    "X_train_lr = np.vstack(X_train['concat_emb'].values)\n",
    "X_test_lr = np.vstack(X_test['concat_emb'].values)"
   ]
  },
  {
   "cell_type": "code",
   "execution_count": null,
   "id": "99eca86f",
   "metadata": {},
   "outputs": [],
   "source": [
    "#признаки для нейронной сети\n",
    "X_train_tf = tf.convert_to_tensor(np.vstack(X_train['concat_emb'].values))\n",
    "X_test_tf = tf.convert_to_tensor(np.vstack(X_test['concat_emb'].values))\n"
   ]
  },
  {
   "cell_type": "markdown",
   "id": "21b0a166",
   "metadata": {},
   "source": [
    "Обучим линейную регрессию для сравнения результатов с другими более сложными моделями"
   ]
  },
  {
   "cell_type": "code",
   "execution_count": null,
   "id": "bd46f2b4",
   "metadata": {},
   "outputs": [
    {
     "name": "stdout",
     "output_type": "stream",
     "text": [
      "Метрика модели - 1055667.62\n"
     ]
    }
   ],
   "source": [
    "#инициализируем и обучим модель линейной регрессии\n",
    "model = LinearRegression(n_jobs=-1)\n",
    "cv = cross_validate(model, X_train_lr, y_train, scoring='neg_root_mean_squared_error')\n",
    "print(f'Медианная метрика модели за пять итераций обучения - {round(-np.median(cv[\"test_score\"]), 2)}')"
   ]
  },
  {
   "cell_type": "code",
   "execution_count": null,
   "id": "4816670c",
   "metadata": {},
   "outputs": [
    {
     "name": "stdout",
     "output_type": "stream",
     "text": [
      "0:\tlearn: 0.1996858\ttotal: 348ms\tremaining: 10.1s\n",
      "10:\tlearn: 0.1996600\ttotal: 2.74s\tremaining: 4.73s\n",
      "20:\tlearn: 0.1996346\ttotal: 4.99s\tremaining: 2.14s\n",
      "29:\tlearn: 0.1996117\ttotal: 6.9s\tremaining: 0us\n",
      "0:\tlearn: 0.1958558\ttotal: 201ms\tremaining: 5.82s\n",
      "10:\tlearn: 0.1958301\ttotal: 2.31s\tremaining: 4s\n",
      "20:\tlearn: 0.1958061\ttotal: 4.51s\tremaining: 1.93s\n",
      "29:\tlearn: 0.1957830\ttotal: 6.45s\tremaining: 0us\n",
      "0:\tlearn: 0.2017535\ttotal: 218ms\tremaining: 6.31s\n",
      "10:\tlearn: 0.2017276\ttotal: 2.33s\tremaining: 4.03s\n",
      "20:\tlearn: 0.2017000\ttotal: 4.49s\tremaining: 1.93s\n",
      "29:\tlearn: 0.2016759\ttotal: 6.47s\tremaining: 0us\n",
      "0:\tlearn: 0.2050814\ttotal: 223ms\tremaining: 6.46s\n",
      "10:\tlearn: 0.2050560\ttotal: 2.34s\tremaining: 4.04s\n",
      "20:\tlearn: 0.2050289\ttotal: 4.46s\tremaining: 1.91s\n",
      "29:\tlearn: 0.2050053\ttotal: 6.33s\tremaining: 0us\n",
      "0:\tlearn: 0.2020187\ttotal: 196ms\tremaining: 5.67s\n",
      "10:\tlearn: 0.2019955\ttotal: 2.43s\tremaining: 4.19s\n",
      "20:\tlearn: 0.2019742\ttotal: 4.46s\tremaining: 1.91s\n",
      "29:\tlearn: 0.2019539\ttotal: 6.5s\tremaining: 0us\n",
      "0:\tlearn: 0.1996854\ttotal: 290ms\tremaining: 8.41s\n",
      "10:\tlearn: 0.1996536\ttotal: 4.68s\tremaining: 8.09s\n",
      "20:\tlearn: 0.1996218\ttotal: 8.83s\tremaining: 3.78s\n",
      "29:\tlearn: 0.1995943\ttotal: 13s\tremaining: 0us\n",
      "0:\tlearn: 0.1958554\ttotal: 387ms\tremaining: 11.2s\n",
      "10:\tlearn: 0.1958230\ttotal: 5.07s\tremaining: 8.76s\n",
      "20:\tlearn: 0.1957920\ttotal: 9.84s\tremaining: 4.22s\n",
      "29:\tlearn: 0.1957627\ttotal: 14s\tremaining: 0us\n",
      "0:\tlearn: 0.2017533\ttotal: 554ms\tremaining: 16.1s\n",
      "10:\tlearn: 0.2017216\ttotal: 5.85s\tremaining: 10.1s\n",
      "20:\tlearn: 0.2016908\ttotal: 11.1s\tremaining: 4.74s\n",
      "29:\tlearn: 0.2016600\ttotal: 16.1s\tremaining: 0us\n",
      "0:\tlearn: 0.2050811\ttotal: 516ms\tremaining: 15s\n",
      "10:\tlearn: 0.2050499\ttotal: 6.14s\tremaining: 10.6s\n",
      "20:\tlearn: 0.2050154\ttotal: 12.6s\tremaining: 5.4s\n",
      "29:\tlearn: 0.2049852\ttotal: 17.9s\tremaining: 0us\n",
      "0:\tlearn: 0.2020179\ttotal: 557ms\tremaining: 16.2s\n",
      "10:\tlearn: 0.2019896\ttotal: 7.25s\tremaining: 12.5s\n",
      "20:\tlearn: 0.2019615\ttotal: 13.6s\tremaining: 5.82s\n"
     ]
    }
   ],
   "source": [
    "#инициализируем модель использующу градиентный спуск для получения предсказания\n",
    "cat = CatBoostRegressor(grow_policy='Depthwise',\n",
    "                        learning_rate=0.0001,\n",
    "                        random_state=5678,\n",
    "                        early_stopping_rounds=10,\n",
    "                        iterations=30,\n",
    "                        verbose=10)\n",
    "\n",
    "param = {\n",
    "    'depth': range(5, 15)\n",
    "}\n",
    "\n",
    "random_cat = RandomizedSearchCV(cat, param, n_iter=10, scoring='neg_root_mean_squared_error', random_state=5678)\n",
    "random_cat.fit(X_train_lr, y_train)"
   ]
  },
  {
   "cell_type": "code",
   "execution_count": null,
   "id": "07913ed7",
   "metadata": {},
   "outputs": [
    {
     "name": "stdout",
     "output_type": "stream",
     "text": [
      "Время обучения лучшей модели - 50.71 сек\n",
      "Лучшее значение метрики RMSE - 0.2\n",
      "Параметры лучшей модели - {'depth': 9}\n"
     ]
    }
   ],
   "source": [
    "print(f'Время обучения лучшей модели catboost - {round(random_cat.refit_time_, 2)} сек')\n",
    "print(f'Лучшее значение метрики RMSE - {round(-random_cat.best_score_, 2)}')\n",
    "print(f'Параметры лучшей модели - {random_cat.cv_results_[\"params\"][random_cat.best_index_]}')"
   ]
  },
  {
   "cell_type": "markdown",
   "id": "237fa8c4",
   "metadata": {},
   "source": [
    "Теперь обучим последнюю рассматриваемую модель нейронного обучения типа resnet"
   ]
  },
  {
   "cell_type": "code",
   "execution_count": null,
   "id": "0a467838",
   "metadata": {},
   "outputs": [],
   "source": [
    "#используя функцию построим модель нейронного обучения\n",
    "def create_model(input_shape):\n",
    "    optimizer = Adam(learning_rate=1e-4)\n",
    "    model = Sequential()\n",
    "    model.add(Dense(256, input_shape=input_shape, activation='relu'))\n",
    "    model.add(BatchNormalization())\n",
    "    model.add(Dropout(0.3))\n",
    "    model.add(Dense(128, activation='relu'))\n",
    "    model.add(BatchNormalization())\n",
    "    model.add(Dense(128, activation='elu'))\n",
    "    model.add(BatchNormalization())\n",
    "    model.add(Dropout(0.3))\n",
    "    model.add(Dense(128, activation='relu'))\n",
    "    model.add(BatchNormalization())\n",
    "    model.add(Dense(32, activation='elu'))\n",
    "    model.add(BatchNormalization())\n",
    "    #model.add(Dense(128, activation='relu'))\n",
    "    model.add(Dropout(0.1))\n",
    "    model.add(Dense(1, activation='relu'))\n",
    "    model.compile(optimizer=optimizer, loss='mean_squared_error',\n",
    "                  metrics=[RootMeanSquaredError()])\n",
    "\n",
    "    return model\n",
    "\n",
    "#так же создадим функцию для обучения модели\n",
    "def train_model(model, X_train, y_train, X_test, y_test, batch_size=None, epochs=None,\n",
    "                steps_per_epoch=None, validation_steps=None):\n",
    "    \n",
    "    early_stop = EarlyStopping(monitor='val_loss', patience=10)\n",
    "\n",
    "    model.fit(X_train, y_train,\n",
    "              validation_data=(X_test, y_test),\n",
    "              batch_size=batch_size, epochs=epochs,\n",
    "              steps_per_epoch=steps_per_epoch,\n",
    "              callbacks=[early_stop],\n",
    "              validation_steps=validation_steps,\n",
    "              verbose=2)\n",
    "    return model"
   ]
  },
  {
   "cell_type": "code",
   "execution_count": 74,
   "id": "fcb25194",
   "metadata": {},
   "outputs": [
    {
     "name": "stdout",
     "output_type": "stream",
     "text": [
      "Epoch 1/100\n",
      "230/230 - 8s - loss: 0.4488 - root_mean_squared_error: 0.6699 - val_loss: 0.0843 - val_root_mean_squared_error: 0.2903 - 8s/epoch - 36ms/step\n",
      "Epoch 2/100\n",
      "230/230 - 3s - loss: 0.2208 - root_mean_squared_error: 0.4699 - val_loss: 0.0623 - val_root_mean_squared_error: 0.2496 - 3s/epoch - 14ms/step\n",
      "Epoch 3/100\n",
      "230/230 - 3s - loss: 0.1456 - root_mean_squared_error: 0.3816 - val_loss: 0.0518 - val_root_mean_squared_error: 0.2277 - 3s/epoch - 13ms/step\n",
      "Epoch 4/100\n",
      "230/230 - 3s - loss: 0.1078 - root_mean_squared_error: 0.3283 - val_loss: 0.0499 - val_root_mean_squared_error: 0.2233 - 3s/epoch - 13ms/step\n",
      "Epoch 5/100\n",
      "230/230 - 3s - loss: 0.0937 - root_mean_squared_error: 0.3061 - val_loss: 0.0482 - val_root_mean_squared_error: 0.2197 - 3s/epoch - 13ms/step\n",
      "Epoch 6/100\n",
      "230/230 - 3s - loss: 0.0741 - root_mean_squared_error: 0.2722 - val_loss: 0.0494 - val_root_mean_squared_error: 0.2222 - 3s/epoch - 13ms/step\n",
      "Epoch 7/100\n",
      "230/230 - 3s - loss: 0.0664 - root_mean_squared_error: 0.2578 - val_loss: 0.0484 - val_root_mean_squared_error: 0.2200 - 3s/epoch - 13ms/step\n",
      "Epoch 8/100\n",
      "230/230 - 3s - loss: 0.0711 - root_mean_squared_error: 0.2666 - val_loss: 0.0473 - val_root_mean_squared_error: 0.2175 - 3s/epoch - 13ms/step\n",
      "Epoch 9/100\n",
      "230/230 - 3s - loss: 0.0622 - root_mean_squared_error: 0.2494 - val_loss: 0.0474 - val_root_mean_squared_error: 0.2177 - 3s/epoch - 13ms/step\n",
      "Epoch 10/100\n",
      "230/230 - 3s - loss: 0.0588 - root_mean_squared_error: 0.2425 - val_loss: 0.0472 - val_root_mean_squared_error: 0.2172 - 3s/epoch - 13ms/step\n",
      "Epoch 11/100\n",
      "230/230 - 3s - loss: 0.0582 - root_mean_squared_error: 0.2413 - val_loss: 0.0472 - val_root_mean_squared_error: 0.2173 - 3s/epoch - 13ms/step\n",
      "Epoch 12/100\n",
      "230/230 - 3s - loss: 0.0568 - root_mean_squared_error: 0.2384 - val_loss: 0.0471 - val_root_mean_squared_error: 0.2171 - 3s/epoch - 13ms/step\n",
      "Epoch 13/100\n",
      "230/230 - 3s - loss: 0.0546 - root_mean_squared_error: 0.2337 - val_loss: 0.0471 - val_root_mean_squared_error: 0.2170 - 3s/epoch - 13ms/step\n",
      "Epoch 14/100\n",
      "230/230 - 3s - loss: 0.0566 - root_mean_squared_error: 0.2379 - val_loss: 0.0476 - val_root_mean_squared_error: 0.2181 - 3s/epoch - 13ms/step\n",
      "Epoch 15/100\n",
      "230/230 - 3s - loss: 0.0524 - root_mean_squared_error: 0.2288 - val_loss: 0.0471 - val_root_mean_squared_error: 0.2171 - 3s/epoch - 13ms/step\n",
      "Epoch 16/100\n",
      "230/230 - 3s - loss: 0.0528 - root_mean_squared_error: 0.2298 - val_loss: 0.0471 - val_root_mean_squared_error: 0.2171 - 3s/epoch - 13ms/step\n",
      "Epoch 17/100\n",
      "230/230 - 3s - loss: 0.0525 - root_mean_squared_error: 0.2291 - val_loss: 0.0469 - val_root_mean_squared_error: 0.2166 - 3s/epoch - 13ms/step\n",
      "Epoch 18/100\n",
      "230/230 - 3s - loss: 0.0520 - root_mean_squared_error: 0.2280 - val_loss: 0.0467 - val_root_mean_squared_error: 0.2161 - 3s/epoch - 13ms/step\n",
      "Epoch 19/100\n",
      "230/230 - 3s - loss: 0.0511 - root_mean_squared_error: 0.2260 - val_loss: 0.0469 - val_root_mean_squared_error: 0.2165 - 3s/epoch - 13ms/step\n",
      "Epoch 20/100\n",
      "230/230 - 3s - loss: 0.0507 - root_mean_squared_error: 0.2252 - val_loss: 0.0467 - val_root_mean_squared_error: 0.2160 - 3s/epoch - 13ms/step\n",
      "Epoch 21/100\n",
      "230/230 - 3s - loss: 0.0498 - root_mean_squared_error: 0.2231 - val_loss: 0.0467 - val_root_mean_squared_error: 0.2160 - 3s/epoch - 13ms/step\n",
      "Epoch 22/100\n",
      "230/230 - 3s - loss: 0.0495 - root_mean_squared_error: 0.2225 - val_loss: 0.0467 - val_root_mean_squared_error: 0.2160 - 3s/epoch - 13ms/step\n",
      "Epoch 23/100\n",
      "230/230 - 3s - loss: 0.0501 - root_mean_squared_error: 0.2237 - val_loss: 0.0467 - val_root_mean_squared_error: 0.2160 - 3s/epoch - 13ms/step\n",
      "Epoch 24/100\n",
      "230/230 - 3s - loss: 0.0488 - root_mean_squared_error: 0.2208 - val_loss: 0.0467 - val_root_mean_squared_error: 0.2160 - 3s/epoch - 13ms/step\n",
      "Epoch 25/100\n",
      "230/230 - 3s - loss: 0.0504 - root_mean_squared_error: 0.2245 - val_loss: 0.0467 - val_root_mean_squared_error: 0.2161 - 3s/epoch - 13ms/step\n",
      "Epoch 26/100\n",
      "230/230 - 3s - loss: 0.0494 - root_mean_squared_error: 0.2222 - val_loss: 0.0468 - val_root_mean_squared_error: 0.2163 - 3s/epoch - 13ms/step\n",
      "Epoch 27/100\n",
      "230/230 - 3s - loss: 0.0483 - root_mean_squared_error: 0.2197 - val_loss: 0.0467 - val_root_mean_squared_error: 0.2160 - 3s/epoch - 12ms/step\n",
      "Epoch 28/100\n",
      "230/230 - 3s - loss: 0.0498 - root_mean_squared_error: 0.2233 - val_loss: 0.0467 - val_root_mean_squared_error: 0.2161 - 3s/epoch - 13ms/step\n",
      "Epoch 29/100\n",
      "230/230 - 3s - loss: 0.0493 - root_mean_squared_error: 0.2221 - val_loss: 0.0467 - val_root_mean_squared_error: 0.2161 - 3s/epoch - 13ms/step\n",
      "Epoch 30/100\n",
      "230/230 - 3s - loss: 0.0496 - root_mean_squared_error: 0.2226 - val_loss: 0.0467 - val_root_mean_squared_error: 0.2160 - 3s/epoch - 12ms/step\n",
      "Epoch 31/100\n",
      "230/230 - 3s - loss: 0.0492 - root_mean_squared_error: 0.2219 - val_loss: 0.0467 - val_root_mean_squared_error: 0.2160 - 3s/epoch - 12ms/step\n"
     ]
    },
    {
     "data": {
      "text/plain": [
       "<keras.src.engine.sequential.Sequential at 0x1e9bf59f850>"
      ]
     },
     "execution_count": 74,
     "metadata": {},
     "output_type": "execute_result"
    }
   ],
   "source": [
    "#инициализируем нейронную модель\n",
    "model = create_model((X_train_tf.shape[1], ))\n",
    "\n",
    "train_model(model, X_train_tf, y_train, X_test_tf, y_test, batch_size=16, epochs=100)"
   ]
  },
  {
   "cell_type": "markdown",
   "id": "bad94de9",
   "metadata": {},
   "source": [
    "По итогам обучения моделей лучше всего себя показала модель CatBoostRegressor. Проверим результаты на тестовой выборке, для этого создадим подходящую функцию."
   ]
  },
  {
   "cell_type": "markdown",
   "id": "43fbaeff",
   "metadata": {},
   "source": [
    "## 4. Тестирование модели"
   ]
  },
  {
   "cell_type": "code",
   "execution_count": null,
   "id": "15716b87",
   "metadata": {},
   "outputs": [],
   "source": [
    "#создадим функцию для получния предсказаний, которая будет брать два вектора и выдавать вероятность их совпадения\n",
    "def predict_for_query(image_embending, text):\n",
    "    ittor = image_embedding + text #вот тут я хочу объединить входящие векторы, превратить их в общий и предсказать значение, но не получается это сделать, буду рад помощи.\n",
    "    X_pred = np.vstack(ittor.values)\n",
    "    predict = cat.predict(X_pred)\n",
    "    return predict"
   ]
  },
  {
   "cell_type": "code",
   "execution_count": 94,
   "id": "b35fb451",
   "metadata": {},
   "outputs": [
    {
     "name": "stdout",
     "output_type": "stream",
     "text": [
      "Found 100 validated image filenames.\n"
     ]
    },
    {
     "name": "stdout",
     "output_type": "stream",
     "text": [
      "7/7 - 15s - 15s/epoch - 2s/step\n"
     ]
    },
    {
     "data": {
      "text/html": [
       "<div>\n",
       "<style scoped>\n",
       "    .dataframe tbody tr th:only-of-type {\n",
       "        vertical-align: middle;\n",
       "    }\n",
       "\n",
       "    .dataframe tbody tr th {\n",
       "        vertical-align: top;\n",
       "    }\n",
       "\n",
       "    .dataframe thead th {\n",
       "        text-align: right;\n",
       "    }\n",
       "</style>\n",
       "<table border=\"1\" class=\"dataframe\">\n",
       "  <thead>\n",
       "    <tr style=\"text-align: right;\">\n",
       "      <th></th>\n",
       "      <th>image</th>\n",
       "      <th>image_embedding</th>\n",
       "    </tr>\n",
       "  </thead>\n",
       "  <tbody>\n",
       "    <tr>\n",
       "      <th>0</th>\n",
       "      <td>3356748019_2251399314.jpg</td>\n",
       "      <td>[0.0, 0.0, 0.0, 0.0, 0.9385482, 0.0, 0.0, 0.73...</td>\n",
       "    </tr>\n",
       "    <tr>\n",
       "      <th>1</th>\n",
       "      <td>2887171449_f54a2b9f39.jpg</td>\n",
       "      <td>[0.0, 0.0, 0.0, 0.0, 1.0767634, 0.0, 0.0, 0.75...</td>\n",
       "    </tr>\n",
       "    <tr>\n",
       "      <th>2</th>\n",
       "      <td>3089107423_81a24eaf18.jpg</td>\n",
       "      <td>[0.0, 0.0, 0.00021428964, 0.0, 1.2151546, 0.0,...</td>\n",
       "    </tr>\n",
       "    <tr>\n",
       "      <th>3</th>\n",
       "      <td>1429546659_44cb09cbe2.jpg</td>\n",
       "      <td>[0.0, 0.0, 0.031963527, 0.0, 1.5628939, 0.0, 0...</td>\n",
       "    </tr>\n",
       "    <tr>\n",
       "      <th>4</th>\n",
       "      <td>1177994172_10d143cb8d.jpg</td>\n",
       "      <td>[0.0, 0.0, 0.01649308, 0.0, 1.0136274, 0.0, 0....</td>\n",
       "    </tr>\n",
       "  </tbody>\n",
       "</table>\n",
       "</div>"
      ],
      "text/plain": [
       "                       image  \\\n",
       "0  3356748019_2251399314.jpg   \n",
       "1  2887171449_f54a2b9f39.jpg   \n",
       "2  3089107423_81a24eaf18.jpg   \n",
       "3  1429546659_44cb09cbe2.jpg   \n",
       "4  1177994172_10d143cb8d.jpg   \n",
       "\n",
       "                                     image_embedding  \n",
       "0  [0.0, 0.0, 0.0, 0.0, 0.9385482, 0.0, 0.0, 0.73...  \n",
       "1  [0.0, 0.0, 0.0, 0.0, 1.0767634, 0.0, 0.0, 0.75...  \n",
       "2  [0.0, 0.0, 0.00021428964, 0.0, 1.2151546, 0.0,...  \n",
       "3  [0.0, 0.0, 0.031963527, 0.0, 1.5628939, 0.0, 0...  \n",
       "4  [0.0, 0.0, 0.01649308, 0.0, 1.0136274, 0.0, 0....  "
      ]
     },
     "metadata": {},
     "output_type": "display_data"
    }
   ],
   "source": [
    "#чтобы передать модели на тестирование изображения необходимо тестовые изображения тоже перевести в вектора\n",
    "images_for_test = load_test('D:combine_4/test_images', test_images)\n",
    "image_test_vector = resnet.predict(images_for_test, verbose=2)\n",
    "\n",
    "test_image_embedding = image_test_vector.reshape(image_test_vector.shape[0], -1)\n",
    "\n",
    "test_images['image_embedding'] = list(test_image_embedding)\n",
    "display(test_images.head())"
   ]
  },
  {
   "cell_type": "code",
   "execution_count": null,
   "id": "733c6106",
   "metadata": {},
   "outputs": [
    {
     "ename": "TypeError",
     "evalue": "unhashable type: 'numpy.ndarray'",
     "output_type": "error",
     "traceback": [
      "\u001b[1;31m---------------------------------------------------------------------------\u001b[0m",
      "\u001b[1;31mTypeError\u001b[0m                                 Traceback (most recent call last)",
      "Cell \u001b[1;32mIn[105], line 11\u001b[0m\n\u001b[0;32m      8\u001b[0m     images_temp\u001b[38;5;241m.\u001b[39msort_values(\u001b[38;5;124m'\u001b[39m\u001b[38;5;124msimilarity\u001b[39m\u001b[38;5;124m'\u001b[39m, ascending\u001b[38;5;241m=\u001b[39m\u001b[38;5;28;01mFalse\u001b[39;00m, inplace\u001b[38;5;241m=\u001b[39m\u001b[38;5;28;01mTrue\u001b[39;00m)\n\u001b[0;32m      9\u001b[0m     \u001b[38;5;28;01mreturn\u001b[39;00m images_temp\u001b[38;5;241m.\u001b[39miloc[\u001b[38;5;241m0\u001b[39m,\u001b[38;5;241m0\u001b[39m]\n\u001b[1;32m---> 11\u001b[0m img \u001b[38;5;241m=\u001b[39m Image\u001b[38;5;241m.\u001b[39mopen(os\u001b[38;5;241m.\u001b[39mpath\u001b[38;5;241m.\u001b[39mjoin(\u001b[38;5;124m'\u001b[39m\u001b[38;5;124mD:combine_4/test_images\u001b[39m\u001b[38;5;124m'\u001b[39m, \u001b[43mget_image_for_query\u001b[49m\u001b[43m(\u001b[49m\u001b[43mtest_images\u001b[49m\u001b[43m,\u001b[49m\u001b[43m \u001b[49m\u001b[43mtest_queries\u001b[49m\u001b[38;5;241;43m.\u001b[39;49m\u001b[43miloc\u001b[49m\u001b[43m[\u001b[49m\u001b[38;5;241;43m0\u001b[39;49m\u001b[43m,\u001b[49m\u001b[43m \u001b[49m\u001b[38;5;241;43m1\u001b[39;49m\u001b[43m]\u001b[49m\u001b[43m)\u001b[49m))\u001b[38;5;241m.\u001b[39mconvert(\u001b[38;5;124m'\u001b[39m\u001b[38;5;124mRGB\u001b[39m\u001b[38;5;124m'\u001b[39m)\n\u001b[0;32m     12\u001b[0m img\n",
      "Cell \u001b[1;32mIn[105], line 7\u001b[0m, in \u001b[0;36mget_image_for_query\u001b[1;34m(images, query)\u001b[0m\n\u001b[0;32m      5\u001b[0m images_temp \u001b[38;5;241m=\u001b[39m images\u001b[38;5;241m.\u001b[39mcopy()\n\u001b[0;32m      6\u001b[0m \u001b[38;5;28;01mfor\u001b[39;00m index, row \u001b[38;5;129;01min\u001b[39;00m images_temp\u001b[38;5;241m.\u001b[39miterrows():\n\u001b[1;32m----> 7\u001b[0m     images_temp\u001b[38;5;241m.\u001b[39mloc[index, \u001b[38;5;124m'\u001b[39m\u001b[38;5;124msimilarity\u001b[39m\u001b[38;5;124m'\u001b[39m] \u001b[38;5;241m=\u001b[39m \u001b[43mpredict_for_query\u001b[49m\u001b[43m(\u001b[49m\u001b[43mrow\u001b[49m\u001b[43m[\u001b[49m\u001b[38;5;124;43m'\u001b[39;49m\u001b[38;5;124;43mimage_embedding\u001b[39;49m\u001b[38;5;124;43m'\u001b[39;49m\u001b[43m]\u001b[49m\u001b[43m,\u001b[49m\u001b[43m \u001b[49m\u001b[43mquery_token\u001b[49m\u001b[43m)\u001b[49m\n\u001b[0;32m      8\u001b[0m images_temp\u001b[38;5;241m.\u001b[39msort_values(\u001b[38;5;124m'\u001b[39m\u001b[38;5;124msimilarity\u001b[39m\u001b[38;5;124m'\u001b[39m, ascending\u001b[38;5;241m=\u001b[39m\u001b[38;5;28;01mFalse\u001b[39;00m, inplace\u001b[38;5;241m=\u001b[39m\u001b[38;5;28;01mTrue\u001b[39;00m)\n\u001b[0;32m      9\u001b[0m \u001b[38;5;28;01mreturn\u001b[39;00m images_temp\u001b[38;5;241m.\u001b[39miloc[\u001b[38;5;241m0\u001b[39m,\u001b[38;5;241m0\u001b[39m]\n",
      "Cell \u001b[1;32mIn[75], line 3\u001b[0m, in \u001b[0;36mpredict_for_query\u001b[1;34m(image_embending, text)\u001b[0m\n\u001b[0;32m      2\u001b[0m \u001b[38;5;28;01mdef\u001b[39;00m \u001b[38;5;21mpredict_for_query\u001b[39m(image_embending, text):\n\u001b[1;32m----> 3\u001b[0m     df \u001b[38;5;241m=\u001b[39m pd\u001b[38;5;241m.\u001b[39mDataFrame({image_embending: \u001b[38;5;124m'\u001b[39m\u001b[38;5;124mimage_embedding\u001b[39m\u001b[38;5;124m'\u001b[39m,\n\u001b[0;32m      4\u001b[0m                        text: \u001b[38;5;124m'\u001b[39m\u001b[38;5;124mtext_embedding\u001b[39m\u001b[38;5;124m'\u001b[39m})\n\u001b[0;32m      5\u001b[0m     df[\u001b[38;5;124m'\u001b[39m\u001b[38;5;124mconcat\u001b[39m\u001b[38;5;124m'\u001b[39m] \u001b[38;5;241m=\u001b[39m df\u001b[38;5;241m.\u001b[39mapply(\u001b[38;5;28;01mlambda\u001b[39;00m x: np\u001b[38;5;241m.\u001b[39mconcatenate([x[\u001b[38;5;124m'\u001b[39m\u001b[38;5;124mimage_embedding\u001b[39m\u001b[38;5;124m'\u001b[39m], x[\u001b[38;5;124m'\u001b[39m\u001b[38;5;124mtext_embedding\u001b[39m\u001b[38;5;124m'\u001b[39m]]), axis\u001b[38;5;241m=\u001b[39m\u001b[38;5;241m1\u001b[39m)\n\u001b[0;32m      6\u001b[0m     X_pred \u001b[38;5;241m=\u001b[39m tf\u001b[38;5;241m.\u001b[39mconvert_to_tensor(np\u001b[38;5;241m.\u001b[39mvstack(df[\u001b[38;5;124m'\u001b[39m\u001b[38;5;124mconcat\u001b[39m\u001b[38;5;124m'\u001b[39m]\u001b[38;5;241m.\u001b[39mvalues))\n",
      "\u001b[1;31mTypeError\u001b[0m: unhashable type: 'numpy.ndarray'"
     ]
    }
   ],
   "source": [
    "#приступим к созданию функции которая получит на вход изображения с запросами и выдаст список вероятностей для них\n",
    "def get_image_for_query(images, query):\n",
    "    query = re.sub('\\s+', ' ', re.sub('[^\\w\\s]$', '', query.lower()))\n",
    "    query_token = np.array(tokenizer.encode(query, padding='max_length'))\n",
    "    images_temp = images.copy()\n",
    "    for index, row in images_temp.iterrows():\n",
    "        images_temp.loc[index, 'similarity'] = predict_for_query(row['image_embedding'], query_token)\n",
    "    images_temp.sort_values('similarity', ascending=False, inplace=True)\n",
    "    return images_temp.iloc[0,0]\n",
    "\n",
    "path_img = 'D:combine_4/test_images'\n",
    "img = Image.open(os.path.join(path_img, get_image_for_query(test_images, test_queries.iloc[0, 1]))).convert('RGB')\n",
    "img"
   ]
  },
  {
   "cell_type": "code",
   "execution_count": 111,
   "id": "a9c1ca8a",
   "metadata": {},
   "outputs": [
    {
     "ename": "TypeError",
     "evalue": "only integer scalar arrays can be converted to a scalar index",
     "output_type": "error",
     "traceback": [
      "\u001b[1;31m---------------------------------------------------------------------------\u001b[0m",
      "\u001b[1;31mTypeError\u001b[0m                                 Traceback (most recent call last)",
      "Cell \u001b[1;32mIn[111], line 3\u001b[0m\n\u001b[0;32m      1\u001b[0m one \u001b[38;5;241m=\u001b[39m test_images\u001b[38;5;241m.\u001b[39miloc[\u001b[38;5;241m0\u001b[39m, \u001b[38;5;241m1\u001b[39m]\n\u001b[0;32m      2\u001b[0m two \u001b[38;5;241m=\u001b[39m np\u001b[38;5;241m.\u001b[39marray(tokenizer\u001b[38;5;241m.\u001b[39mencode(test_queries\u001b[38;5;241m.\u001b[39miloc[\u001b[38;5;241m0\u001b[39m, \u001b[38;5;241m1\u001b[39m], padding\u001b[38;5;241m=\u001b[39m\u001b[38;5;124m'\u001b[39m\u001b[38;5;124mmax_length\u001b[39m\u001b[38;5;124m'\u001b[39m))\n\u001b[1;32m----> 3\u001b[0m vec \u001b[38;5;241m=\u001b[39m \u001b[43mnp\u001b[49m\u001b[38;5;241;43m.\u001b[39;49m\u001b[43mconcatenate\u001b[49m\u001b[43m(\u001b[49m\u001b[43mone\u001b[49m\u001b[43m,\u001b[49m\u001b[43m \u001b[49m\u001b[43mtwo\u001b[49m\u001b[43m)\u001b[49m\n\u001b[0;32m      4\u001b[0m vec\n",
      "File \u001b[1;32m<__array_function__ internals>:180\u001b[0m, in \u001b[0;36mconcatenate\u001b[1;34m(*args, **kwargs)\u001b[0m\n",
      "\u001b[1;31mTypeError\u001b[0m: only integer scalar arrays can be converted to a scalar index"
     ]
    }
   ],
   "source": [
    "one = test_images.iloc[0, 1]\n",
    "two = np.array(tokenizer.encode(test_queries.iloc[0, 1], padding='max_length'))\n",
    "vec = np.concatenate(one, two)\n",
    "vec"
   ]
  },
  {
   "cell_type": "markdown",
   "id": "30bacd0e",
   "metadata": {},
   "source": [
    "<div class=\"alert\" style=\"background-color:#ead7f7;color:#8737bf\">\n",
    "    <font size=\"3\"><b>Комментарий студента</b></font>\n",
    "   \n",
    "У меня вопрос по функции predict_for_query(), как мне в ней соединить два вектора, которые я ей передаю, чтобы модель могла на общем векторе получить предсказание?. У меня что-то совсем не выходит это. Выше я пытался разными методами это сделать, но каждый раз ошибка. Что мне делать?\n",
    "\n",
    "</div>"
   ]
  },
  {
   "cell_type": "markdown",
   "id": "7f67bc61",
   "metadata": {},
   "source": [
    "<div class=\"alert\" style=\"background-color:#ead7f7;color:#8737bf\">\n",
    "    <font size=\"3\"><b>Комментарий студента</b></font>\n",
    "   \n",
    "Отправляю сырой проект, потому что дедлайн скоро и хотелось бы успеть сдать, это вынужденная мера в этот раз, постараюсь в след раз отправить проект со всеми исправлениями, что успею сделать.(первая итерация)\n",
    "</div>"
   ]
  }
 ],
 "metadata": {
  "kernelspec": {
   "display_name": "base",
   "language": "python",
   "name": "python3"
  },
  "language_info": {
   "codemirror_mode": {
    "name": "ipython",
    "version": 3
   },
   "file_extension": ".py",
   "mimetype": "text/x-python",
   "name": "python",
   "nbconvert_exporter": "python",
   "pygments_lexer": "ipython3",
   "version": "3.8.8"
  }
 },
 "nbformat": 4,
 "nbformat_minor": 5
}
